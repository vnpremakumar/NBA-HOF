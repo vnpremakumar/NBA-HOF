{
 "cells": [
  {
   "cell_type": "markdown",
   "metadata": {},
   "source": [
    "# Introduction"
   ]
  },
  {
   "cell_type": "markdown",
   "metadata": {},
   "source": [
    "In this note book, we also build predictive models using naive bayes."
   ]
  },
  {
   "cell_type": "markdown",
   "metadata": {},
   "source": [
    "# Importing Packages and Data"
   ]
  },
  {
   "cell_type": "markdown",
   "metadata": {},
   "source": [
    "### Importing Packages"
   ]
  },
  {
   "cell_type": "code",
   "execution_count": 1,
   "metadata": {},
   "outputs": [],
   "source": [
    "import pandas as pd\n",
    "import numpy as np\n",
    "import sklearn\n",
    "import matplotlib.pyplot as plt\n",
    "\n",
    "from sklearn.metrics import classification_report\n",
    "from sklearn.metrics import precision_recall_fscore_support\n",
    "from sklearn.preprocessing import StandardScaler\n",
    "from sklearn.linear_model import LogisticRegression\n",
    "from sklearn.naive_bayes import GaussianNB"
   ]
  },
  {
   "cell_type": "markdown",
   "metadata": {},
   "source": [
    "### Importing Data"
   ]
  },
  {
   "cell_type": "code",
   "execution_count": 2,
   "metadata": {},
   "outputs": [],
   "source": [
    "# Import the data\n",
    "player_stats_and_awards = pd.read_csv('../data/player_stats_and_awards.csv')"
   ]
  },
  {
   "cell_type": "code",
   "execution_count": 3,
   "metadata": {},
   "outputs": [
    {
     "data": {
      "text/plain": [
       "Index(['Player', 'Birth Year', 'G', 'GS', 'MP', 'FG', 'FGA', 'FG%', '3P',\n",
       "       '3PA', '3P%', '2P', '2PA', '2P%', 'eFG%', 'FT', 'FTA', 'FT%', 'ORB',\n",
       "       'DRB', 'TRB', 'AST', 'STL', 'BLK', 'TOV', 'PF', 'PTS', 'PER', 'TS%',\n",
       "       '3PAr', 'FTr', 'ORB%', 'DRB%', 'TRB%', 'AST%', 'STL%', 'BLK%', 'TOV%',\n",
       "       'USG%', 'OWS', 'DWS', 'WS', 'WS/48', 'OBPM', 'DBPM', 'BPM', 'VORP',\n",
       "       'Year_start', 'Year_end', 'Length', 'HOF', 'AllStar_MVP', 'Final_MVP',\n",
       "       'DPOY', 'Final', 'Champion', 'AllStar', 'First team', 'Second team',\n",
       "       'Third team', 'MVPs'],\n",
       "      dtype='object')"
      ]
     },
     "execution_count": 3,
     "metadata": {},
     "output_type": "execute_result"
    }
   ],
   "source": [
    "# All the features of the data\n",
    "player_stats_and_awards.columns"
   ]
  },
  {
   "cell_type": "markdown",
   "metadata": {},
   "source": [
    "Here, we choose to work with players who start their careers after 1982 and finish their careers before 2015. We also normalized all the features except 'HOF.'   "
   ]
  },
  {
   "cell_type": "code",
   "execution_count": 4,
   "metadata": {},
   "outputs": [],
   "source": [
    "# data_in: data for training the model\n",
    "data_in = player_stats_and_awards.query('Year_start >= 1982 & Year_end <= 2015')\n",
    "\n",
    "# data_future: data for predicting future HOF inductees, need to be normalized the same way as data_in\n",
    "data_future = player_stats_and_awards.query('Year_end > 2015')\n",
    "\n",
    "# normalized data_in and data_future as X and X_future\n",
    "X = data_in.drop([\"Player\",\"HOF\"], axis = 1)\n",
    "normalization_offset = X.mean()\n",
    "normalization_scaling = X.std()\n",
    "X = (X - normalization_offset)/normalization_scaling\n",
    "\n",
    "X_future = data_future.drop([\"Player\",\"HOF\"], axis = 1)\n",
    "X_future = (X_future - normalization_offset)/normalization_scaling\n",
    "\n",
    "\n",
    "y = data_in[\"HOF\"]\n",
    "data_normalized = pd.concat([X,y], axis=1)"
   ]
  },
  {
   "cell_type": "markdown",
   "metadata": {},
   "source": [
    "### Precision, Recall And F1 score"
   ]
  },
  {
   "cell_type": "code",
   "execution_count": 5,
   "metadata": {},
   "outputs": [],
   "source": [
    "def Precision_Func(y_true,y_pred):\n",
    "    y_true_np = np.array(y_true)\n",
    "    y_pred_np= np.array(y_pred)\n",
    "    y_true_positive_np = y_true_np & y_pred_np\n",
    "    \n",
    "    if sum(y_pred_np) > 0:\n",
    "        precision = sum(y_true_positive_np)/sum(y_pred_np) \n",
    "    else:\n",
    "        precision = -1 # if the no predictive positive, return a signal -1 \n",
    "    \n",
    "    return precision"
   ]
  },
  {
   "cell_type": "code",
   "execution_count": 6,
   "metadata": {},
   "outputs": [],
   "source": [
    "def Recall_Func(y_true,y_pred):\n",
    "    y_true_np = np.array(y_true)\n",
    "    y_pred_np= np.array(y_pred)\n",
    "    y_true_positive_np = y_true_np & y_pred_np\n",
    "    \n",
    "    if sum(y_true_np) > 0:\n",
    "        recall = sum(y_true_positive_np)/sum(y_true_np) \n",
    "    else:\n",
    "        recall = -1 # if the no true element, return a signal -1 \n",
    "    \n",
    "    return recall"
   ]
  },
  {
   "cell_type": "code",
   "execution_count": 7,
   "metadata": {},
   "outputs": [],
   "source": [
    "def F1_Score_Func(y_true,y_pred):\n",
    "    precision = Precision_Func(y_true,y_pred)\n",
    "    recall = Recall_Func(y_true,y_pred)\n",
    "    \n",
    "    if (precision > 0) & (recall > 0):\n",
    "        f1 = 2*precision*recall / (precision + recall)\n",
    "    elif (precision == 0 ) & (recall == 0):\n",
    "        # the limit of no true positive is f1 = 0\n",
    "        f1 = 0\n",
    "    elif (precision < 0) & (recall >= 0):\n",
    "        # no predicted positive while true elements are present, it is reasonable to set f1 to zero\n",
    "        f1 = 0\n",
    "    elif (recall < 0) :\n",
    "        # no ture elements to be learned from, there is issue in the training set\n",
    "        f1 = -1\n",
    "        print('There are no true examples in the training set!')\n",
    "    \n",
    "    return f1"
   ]
  },
  {
   "cell_type": "markdown",
   "metadata": {},
   "source": [
    "# Naive Bayes"
   ]
  },
  {
   "cell_type": "markdown",
   "metadata": {},
   "source": [
    "### One representing feature, AllStar"
   ]
  },
  {
   "cell_type": "markdown",
   "metadata": {},
   "source": [
    "We first plot the distribution of number of All stars with respect to whether the player is a Hall of Fame inductee. "
   ]
  },
  {
   "cell_type": "code",
   "execution_count": 8,
   "metadata": {},
   "outputs": [
    {
     "data": {
      "image/png": "[encoded data removed]",
      "text/plain": [
       "<Figure size 432x288 with 1 Axes>"
      ]
     },
     "metadata": {
      "needs_background": "light"
     },
     "output_type": "display_data"
    }
   ],
   "source": [
    "X_in = data_in['AllStar']\n",
    "y_in = data_normalized['HOF']\n",
    "\n",
    "\n",
    "# data to plot\n",
    "n_groups = max(X_in)- min(X_in)+1\n",
    "index = np.arange(n_groups)\n",
    "X_in_1 = X_in[y_in==1]\n",
    "X_in_1_hist = [sum(X_in_1==i) for i in list(index)]\n",
    "X_in_0 = X_in[y_in==0]\n",
    "X_in_0_hist = [sum(X_in_0==i) for i in list(index)]\n",
    " \n",
    "# create plot\n",
    "fig, ax = plt.subplots()\n",
    "bar_width = 0.35\n",
    "opacity = 0.8\n",
    " \n",
    "rects1 = plt.bar(index, X_in_1_hist, bar_width,\n",
    "alpha=opacity,\n",
    "color='b',\n",
    "label='HOF')\n",
    " \n",
    "rects2 = plt.bar(index + bar_width, X_in_0_hist, bar_width,\n",
    "alpha=opacity,\n",
    "color='r',\n",
    "label='non-HOF')\n",
    "\n",
    "plt.ylim(0,15)\n",
    "plt.xticks(index)\n",
    "plt.xlabel(\"'AllStar'\")\n",
    "plt.ylabel('Number of Players')\n",
    "plt.title(\"Number of Players v.s. 'AllStar'\")\n",
    "plt.legend()\n",
    " \n",
    "plt.tight_layout()\n",
    "plt.show()"
   ]
  },
  {
   "cell_type": "markdown",
   "metadata": {},
   "source": [
    "This plot shows that players who have played in the all star games at least seven times are all Hall of Fame inductees. Players who have played six times have one half probability being inducted. And the probability goes down quickly for players who play less then five times. We now explore people who are Hall of Fame inductees but have only played at most six times. However, the distribution for non-HOF is very different from gaussian so we expect the performance would not be good."
   ]
  },
  {
   "cell_type": "code",
   "execution_count": 9,
   "metadata": {
    "scrolled": true
   },
   "outputs": [
    {
     "data": {
      "text/html": [
       "<div>\n",
       "<style scoped>\n",
       "    .dataframe tbody tr th:only-of-type {\n",
       "        vertical-align: middle;\n",
       "    }\n",
       "\n",
       "    .dataframe tbody tr th {\n",
       "        vertical-align: top;\n",
       "    }\n",
       "\n",
       "    .dataframe thead th {\n",
       "        text-align: right;\n",
       "    }\n",
       "</style>\n",
       "<table border=\"1\" class=\"dataframe\">\n",
       "  <thead>\n",
       "    <tr style=\"text-align: right;\">\n",
       "      <th></th>\n",
       "      <th>Player</th>\n",
       "      <th>AllStar</th>\n",
       "    </tr>\n",
       "  </thead>\n",
       "  <tbody>\n",
       "    <tr>\n",
       "      <th>169</th>\n",
       "      <td>Arvydas Sabonis</td>\n",
       "      <td>0.0</td>\n",
       "    </tr>\n",
       "    <tr>\n",
       "      <th>685</th>\n",
       "      <td>Dennis Rodman</td>\n",
       "      <td>2.0</td>\n",
       "    </tr>\n",
       "    <tr>\n",
       "      <th>2104</th>\n",
       "      <td>Ralph Sampson</td>\n",
       "      <td>4.0</td>\n",
       "    </tr>\n",
       "    <tr>\n",
       "      <th>446</th>\n",
       "      <td>Chris Mullin</td>\n",
       "      <td>5.0</td>\n",
       "    </tr>\n",
       "    <tr>\n",
       "      <th>2152</th>\n",
       "      <td>Reggie Miller</td>\n",
       "      <td>5.0</td>\n",
       "    </tr>\n",
       "    <tr>\n",
       "      <th>1309</th>\n",
       "      <td>Joe Dumars</td>\n",
       "      <td>6.0</td>\n",
       "    </tr>\n",
       "    <tr>\n",
       "      <th>1919</th>\n",
       "      <td>Mitch Richmond</td>\n",
       "      <td>6.0</td>\n",
       "    </tr>\n",
       "  </tbody>\n",
       "</table>\n",
       "</div>"
      ],
      "text/plain": [
       "               Player  AllStar\n",
       "169   Arvydas Sabonis      0.0\n",
       "685     Dennis Rodman      2.0\n",
       "2104    Ralph Sampson      4.0\n",
       "446      Chris Mullin      5.0\n",
       "2152    Reggie Miller      5.0\n",
       "1309       Joe Dumars      6.0\n",
       "1919   Mitch Richmond      6.0"
      ]
     },
     "execution_count": 9,
     "metadata": {},
     "output_type": "execute_result"
    }
   ],
   "source": [
    "data_in.query('(AllStar<=6) & (HOF==1)')[['Player','AllStar']].sort_values('AllStar')"
   ]
  },
  {
   "cell_type": "markdown",
   "metadata": {},
   "source": [
    "The first player, Arvydas Sabonis, is inducted in recognition of his achievement in international competition but has no outstanding NBA career. This person could be an outlier. The rest of them all have outstanding NBA careers."
   ]
  },
  {
   "cell_type": "markdown",
   "metadata": {},
   "source": [
    "We now apply logistic regression and show the probability of being inducted versus the number of all star game played."
   ]
  },
  {
   "cell_type": "code",
   "execution_count": 10,
   "metadata": {},
   "outputs": [
    {
     "data": {
      "text/plain": [
       "GaussianNB(priors=None)"
      ]
     },
     "execution_count": 10,
     "metadata": {},
     "output_type": "execute_result"
    }
   ],
   "source": [
    "X_in = np.c_[X['AllStar']]\n",
    "y_in = y\n",
    "model = GaussianNB()\n",
    "model.fit(X_in, y_in)"
   ]
  },
  {
   "cell_type": "code",
   "execution_count": 11,
   "metadata": {},
   "outputs": [
    {
     "name": "stdout",
     "output_type": "stream",
     "text": [
      "[0.49122807017543857, 0.9333333333333333, 0.6436781609195402]\n"
     ]
    }
   ],
   "source": [
    "y_pred = model.predict(X_in)\n",
    "print([Precision_Func(y,y_pred),Recall_Func(y,y_pred),F1_Score_Func(y,y_pred)])"
   ]
  },
  {
   "cell_type": "markdown",
   "metadata": {},
   "source": [
    "The performance is much worse than logistic regression (see notebook feature-selectrion-logictic-regression)"
   ]
  },
  {
   "cell_type": "code",
   "execution_count": 13,
   "metadata": {},
   "outputs": [
    {
     "data": {
      "image/png": "[encoded data removed]",
      "text/plain": [
       "<Figure size 432x288 with 1 Axes>"
      ]
     },
     "metadata": {
      "needs_background": "light"
     },
     "output_type": "display_data"
    }
   ],
   "source": [
    "X_Full = pd.DataFrame(data = {'AllStar': np.linspace(0,16,1000)})\n",
    "\n",
    "prob_Full = model.predict_proba((X_Full- normalization_offset['AllStar'])/normalization_scaling['AllStar'])[:,1]\n",
    "plt.plot(X_Full,prob_Full)\n",
    "plt.plot([-1,16],[0.5,0.5],color = 'tab:gray', linestyle='--',linewidth = 1.0)\n",
    "plt.plot(X_Full[prob_Full>0.5].min().values*[1,1],[-0.1,1.1],color = 'tab:gray', linestyle='--',linewidth = 1.0)\n",
    "plt.xticks(range(0,16))\n",
    "plt.xlim(-0.5,15.5)\n",
    "plt.ylim(-0.05,1.05)\n",
    "_ = plt.xlabel(\"'AllStar'\")\n",
    "_ = plt.ylabel('Prob. HOF')\n",
    "_ = plt.title('Predicted Probability of Being Inducted in HOF')\n",
    "\n",
    "plt.savefig('../figures/naive-bayes/probability-one-rep-feature.png')\n",
    "plt.show()"
   ]
  },
  {
   "cell_type": "markdown",
   "metadata": {},
   "source": [
    "The results shows that the players who have played more than two all star games have probability higher than 50% to be inducted in Hall of Fame. We now see how this applies to the players who finish their careers after 2015 or are still playing."
   ]
  },
  {
   "cell_type": "code",
   "execution_count": 14,
   "metadata": {},
   "outputs": [],
   "source": [
    "X_future_in = np.c_[X_future['AllStar']]\n",
    "\n",
    "data_future_pred = pd.DataFrame()\n",
    "data_future_pred['Player'] = data_future['Player']\n",
    "data_future_pred['AllStar'] = data_future['AllStar']\n",
    "data_future_pred['HOF'] = model.predict(X_future_in)\n",
    "data_future_pred['HOF_Prob'] = model.predict_proba(X_future_in)[:,1]"
   ]
  },
  {
   "cell_type": "markdown",
   "metadata": {},
   "source": [
    "##### Players who will be inducted:"
   ]
  },
  {
   "cell_type": "code",
   "execution_count": 15,
   "metadata": {
    "scrolled": true
   },
   "outputs": [
    {
     "data": {
      "text/html": [
       "<div>\n",
       "<style scoped>\n",
       "    .dataframe tbody tr th:only-of-type {\n",
       "        vertical-align: middle;\n",
       "    }\n",
       "\n",
       "    .dataframe tbody tr th {\n",
       "        vertical-align: top;\n",
       "    }\n",
       "\n",
       "    .dataframe thead th {\n",
       "        text-align: right;\n",
       "    }\n",
       "</style>\n",
       "<table border=\"1\" class=\"dataframe\">\n",
       "  <thead>\n",
       "    <tr style=\"text-align: right;\">\n",
       "      <th></th>\n",
       "      <th>Player</th>\n",
       "      <th>HOF_Prob</th>\n",
       "    </tr>\n",
       "  </thead>\n",
       "  <tbody>\n",
       "    <tr>\n",
       "      <th>2655</th>\n",
       "      <td>Vince Carter</td>\n",
       "      <td>1.000000</td>\n",
       "    </tr>\n",
       "    <tr>\n",
       "      <th>1557</th>\n",
       "      <td>Kobe Bryant</td>\n",
       "      <td>1.000000</td>\n",
       "    </tr>\n",
       "    <tr>\n",
       "      <th>1520</th>\n",
       "      <td>Kevin Garnett</td>\n",
       "      <td>1.000000</td>\n",
       "    </tr>\n",
       "    <tr>\n",
       "      <th>1517</th>\n",
       "      <td>Kevin Durant</td>\n",
       "      <td>1.000000</td>\n",
       "    </tr>\n",
       "    <tr>\n",
       "      <th>1580</th>\n",
       "      <td>Kyrie Irving</td>\n",
       "      <td>1.000000</td>\n",
       "    </tr>\n",
       "    <tr>\n",
       "      <th>82</th>\n",
       "      <td>Amar'e Stoudemire</td>\n",
       "      <td>1.000000</td>\n",
       "    </tr>\n",
       "    <tr>\n",
       "      <th>1583</th>\n",
       "      <td>LaMarcus Aldridge</td>\n",
       "      <td>1.000000</td>\n",
       "    </tr>\n",
       "    <tr>\n",
       "      <th>1313</th>\n",
       "      <td>Joe Johnson</td>\n",
       "      <td>1.000000</td>\n",
       "    </tr>\n",
       "    <tr>\n",
       "      <th>1628</th>\n",
       "      <td>LeBron James</td>\n",
       "      <td>1.000000</td>\n",
       "    </tr>\n",
       "    <tr>\n",
       "      <th>1141</th>\n",
       "      <td>James Harden</td>\n",
       "      <td>1.000000</td>\n",
       "    </tr>\n",
       "    <tr>\n",
       "      <th>2035</th>\n",
       "      <td>Pau Gasol</td>\n",
       "      <td>1.000000</td>\n",
       "    </tr>\n",
       "    <tr>\n",
       "      <th>807</th>\n",
       "      <td>Dwyane Wade</td>\n",
       "      <td>1.000000</td>\n",
       "    </tr>\n",
       "    <tr>\n",
       "      <th>804</th>\n",
       "      <td>Dwight Howard</td>\n",
       "      <td>1.000000</td>\n",
       "    </tr>\n",
       "    <tr>\n",
       "      <th>2037</th>\n",
       "      <td>Paul George</td>\n",
       "      <td>1.000000</td>\n",
       "    </tr>\n",
       "    <tr>\n",
       "      <th>745</th>\n",
       "      <td>Dirk Nowitzki</td>\n",
       "      <td>1.000000</td>\n",
       "    </tr>\n",
       "    <tr>\n",
       "      <th>2044</th>\n",
       "      <td>Paul Pierce</td>\n",
       "      <td>1.000000</td>\n",
       "    </tr>\n",
       "    <tr>\n",
       "      <th>2284</th>\n",
       "      <td>Russell Westbrook</td>\n",
       "      <td>1.000000</td>\n",
       "    </tr>\n",
       "    <tr>\n",
       "      <th>2423</th>\n",
       "      <td>Stephen Curry</td>\n",
       "      <td>1.000000</td>\n",
       "    </tr>\n",
       "    <tr>\n",
       "      <th>2517</th>\n",
       "      <td>Tim Duncan</td>\n",
       "      <td>1.000000</td>\n",
       "    </tr>\n",
       "    <tr>\n",
       "      <th>2578</th>\n",
       "      <td>Tony Parker</td>\n",
       "      <td>1.000000</td>\n",
       "    </tr>\n",
       "    <tr>\n",
       "      <th>449</th>\n",
       "      <td>Chris Paul</td>\n",
       "      <td>1.000000</td>\n",
       "    </tr>\n",
       "    <tr>\n",
       "      <th>419</th>\n",
       "      <td>Chris Bosh</td>\n",
       "      <td>1.000000</td>\n",
       "    </tr>\n",
       "    <tr>\n",
       "      <th>366</th>\n",
       "      <td>Carmelo Anthony</td>\n",
       "      <td>1.000000</td>\n",
       "    </tr>\n",
       "    <tr>\n",
       "      <th>229</th>\n",
       "      <td>Blake Griffin</td>\n",
       "      <td>1.000000</td>\n",
       "    </tr>\n",
       "    <tr>\n",
       "      <th>128</th>\n",
       "      <td>Anthony Davis</td>\n",
       "      <td>1.000000</td>\n",
       "    </tr>\n",
       "    <tr>\n",
       "      <th>1574</th>\n",
       "      <td>Kyle Lowry</td>\n",
       "      <td>1.000000</td>\n",
       "    </tr>\n",
       "    <tr>\n",
       "      <th>29</th>\n",
       "      <td>Al Horford</td>\n",
       "      <td>1.000000</td>\n",
       "    </tr>\n",
       "    <tr>\n",
       "      <th>1556</th>\n",
       "      <td>Klay Thompson</td>\n",
       "      <td>1.000000</td>\n",
       "    </tr>\n",
       "    <tr>\n",
       "      <th>1527</th>\n",
       "      <td>Kevin Love</td>\n",
       "      <td>1.000000</td>\n",
       "    </tr>\n",
       "    <tr>\n",
       "      <th>1364</th>\n",
       "      <td>John Wall</td>\n",
       "      <td>1.000000</td>\n",
       "    </tr>\n",
       "    <tr>\n",
       "      <th>1291</th>\n",
       "      <td>Jimmy Butler</td>\n",
       "      <td>1.000000</td>\n",
       "    </tr>\n",
       "    <tr>\n",
       "      <th>2042</th>\n",
       "      <td>Paul Millsap</td>\n",
       "      <td>1.000000</td>\n",
       "    </tr>\n",
       "    <tr>\n",
       "      <th>2100</th>\n",
       "      <td>Rajon Rondo</td>\n",
       "      <td>1.000000</td>\n",
       "    </tr>\n",
       "    <tr>\n",
       "      <th>658</th>\n",
       "      <td>DeMarcus Cousins</td>\n",
       "      <td>1.000000</td>\n",
       "    </tr>\n",
       "    <tr>\n",
       "      <th>656</th>\n",
       "      <td>DeMar DeRozan</td>\n",
       "      <td>1.000000</td>\n",
       "    </tr>\n",
       "    <tr>\n",
       "      <th>550</th>\n",
       "      <td>Damian Lillard</td>\n",
       "      <td>1.000000</td>\n",
       "    </tr>\n",
       "    <tr>\n",
       "      <th>1479</th>\n",
       "      <td>Kemba Walker</td>\n",
       "      <td>0.998751</td>\n",
       "    </tr>\n",
       "    <tr>\n",
       "      <th>1714</th>\n",
       "      <td>Marc Gasol</td>\n",
       "      <td>0.998751</td>\n",
       "    </tr>\n",
       "    <tr>\n",
       "      <th>974</th>\n",
       "      <td>Giannis Antetokounmpo</td>\n",
       "      <td>0.998751</td>\n",
       "    </tr>\n",
       "    <tr>\n",
       "      <th>785</th>\n",
       "      <td>Draymond Green</td>\n",
       "      <td>0.998751</td>\n",
       "    </tr>\n",
       "    <tr>\n",
       "      <th>710</th>\n",
       "      <td>Derrick Rose</td>\n",
       "      <td>0.998751</td>\n",
       "    </tr>\n",
       "    <tr>\n",
       "      <th>697</th>\n",
       "      <td>Deron Williams</td>\n",
       "      <td>0.998751</td>\n",
       "    </tr>\n",
       "    <tr>\n",
       "      <th>1450</th>\n",
       "      <td>Kawhi Leonard</td>\n",
       "      <td>0.998751</td>\n",
       "    </tr>\n",
       "  </tbody>\n",
       "</table>\n",
       "</div>"
      ],
      "text/plain": [
       "                     Player  HOF_Prob\n",
       "2655           Vince Carter  1.000000\n",
       "1557            Kobe Bryant  1.000000\n",
       "1520          Kevin Garnett  1.000000\n",
       "1517           Kevin Durant  1.000000\n",
       "1580           Kyrie Irving  1.000000\n",
       "82        Amar'e Stoudemire  1.000000\n",
       "1583      LaMarcus Aldridge  1.000000\n",
       "1313            Joe Johnson  1.000000\n",
       "1628           LeBron James  1.000000\n",
       "1141           James Harden  1.000000\n",
       "2035              Pau Gasol  1.000000\n",
       "807             Dwyane Wade  1.000000\n",
       "804           Dwight Howard  1.000000\n",
       "2037            Paul George  1.000000\n",
       "745           Dirk Nowitzki  1.000000\n",
       "2044            Paul Pierce  1.000000\n",
       "2284      Russell Westbrook  1.000000\n",
       "2423          Stephen Curry  1.000000\n",
       "2517             Tim Duncan  1.000000\n",
       "2578            Tony Parker  1.000000\n",
       "449              Chris Paul  1.000000\n",
       "419              Chris Bosh  1.000000\n",
       "366         Carmelo Anthony  1.000000\n",
       "229           Blake Griffin  1.000000\n",
       "128           Anthony Davis  1.000000\n",
       "1574             Kyle Lowry  1.000000\n",
       "29               Al Horford  1.000000\n",
       "1556          Klay Thompson  1.000000\n",
       "1527             Kevin Love  1.000000\n",
       "1364              John Wall  1.000000\n",
       "1291           Jimmy Butler  1.000000\n",
       "2042           Paul Millsap  1.000000\n",
       "2100            Rajon Rondo  1.000000\n",
       "658        DeMarcus Cousins  1.000000\n",
       "656           DeMar DeRozan  1.000000\n",
       "550          Damian Lillard  1.000000\n",
       "1479           Kemba Walker  0.998751\n",
       "1714             Marc Gasol  0.998751\n",
       "974   Giannis Antetokounmpo  0.998751\n",
       "785          Draymond Green  0.998751\n",
       "710            Derrick Rose  0.998751\n",
       "697          Deron Williams  0.998751\n",
       "1450          Kawhi Leonard  0.998751"
      ]
     },
     "execution_count": 15,
     "metadata": {},
     "output_type": "execute_result"
    }
   ],
   "source": [
    "data_future_pred[(data_future_pred['HOF']==1)][['Player','HOF_Prob']].sort_values('HOF_Prob',ascending = False)"
   ]
  },
  {
   "cell_type": "code",
   "execution_count": 16,
   "metadata": {},
   "outputs": [
    {
     "name": "stdout",
     "output_type": "stream",
     "text": [
      "['Al Horford', \"Amar'e Stoudemire\", 'Anthony Davis', 'Blake Griffin', 'Carmelo Anthony', 'Chris Bosh', 'Chris Paul', 'Damian Lillard', 'DeMar DeRozan', 'DeMarcus Cousins', 'Deron Williams', 'Derrick Rose', 'Dirk Nowitzki', 'Draymond Green', 'Dwight Howard', 'Dwyane Wade', 'Giannis Antetokounmpo', 'James Harden', 'Jimmy Butler', 'Joe Johnson', 'John Wall', 'Kawhi Leonard', 'Kemba Walker', 'Kevin Durant', 'Kevin Garnett', 'Kevin Love', 'Klay Thompson', 'Kobe Bryant', 'Kyle Lowry', 'Kyrie Irving', 'LaMarcus Aldridge', 'LeBron James', 'Marc Gasol', 'Pau Gasol', 'Paul George', 'Paul Millsap', 'Paul Pierce', 'Rajon Rondo', 'Russell Westbrook', 'Stephen Curry', 'Tim Duncan', 'Tony Parker', 'Vince Carter']\n"
     ]
    }
   ],
   "source": [
    "# players that are predicted to be inducted\n",
    "print(data_future_pred[(data_future_pred['HOF']==1)]['Player'].tolist())"
   ]
  },
  {
   "cell_type": "markdown",
   "metadata": {},
   "source": [
    "#### Compare the predictions using logistic regresson: "
   ]
  },
  {
   "cell_type": "markdown",
   "metadata": {},
   "source": [
    "We find that all players who have played at least 3 all star games are pridected to be inducted into Hall of Fame. This includes all players that the logistic regression model using only one representing feature doesn't predict to be Hall of famers but are expected to be inducted in the future based on our impression:"
   ]
  },
  {
   "cell_type": "code",
   "execution_count": 17,
   "metadata": {
    "scrolled": true
   },
   "outputs": [
    {
     "data": {
      "text/html": [
       "<div>\n",
       "<style scoped>\n",
       "    .dataframe tbody tr th:only-of-type {\n",
       "        vertical-align: middle;\n",
       "    }\n",
       "\n",
       "    .dataframe tbody tr th {\n",
       "        vertical-align: top;\n",
       "    }\n",
       "\n",
       "    .dataframe thead th {\n",
       "        text-align: right;\n",
       "    }\n",
       "</style>\n",
       "<table border=\"1\" class=\"dataframe\">\n",
       "  <thead>\n",
       "    <tr style=\"text-align: right;\">\n",
       "      <th></th>\n",
       "      <th>Player</th>\n",
       "      <th>HOF_Prob</th>\n",
       "    </tr>\n",
       "  </thead>\n",
       "  <tbody>\n",
       "    <tr>\n",
       "      <th>29</th>\n",
       "      <td>Al Horford</td>\n",
       "      <td>1.0</td>\n",
       "    </tr>\n",
       "    <tr>\n",
       "      <th>1364</th>\n",
       "      <td>John Wall</td>\n",
       "      <td>1.0</td>\n",
       "    </tr>\n",
       "    <tr>\n",
       "      <th>1527</th>\n",
       "      <td>Kevin Love</td>\n",
       "      <td>1.0</td>\n",
       "    </tr>\n",
       "    <tr>\n",
       "      <th>1556</th>\n",
       "      <td>Klay Thompson</td>\n",
       "      <td>1.0</td>\n",
       "    </tr>\n",
       "    <tr>\n",
       "      <th>1574</th>\n",
       "      <td>Kyle Lowry</td>\n",
       "      <td>1.0</td>\n",
       "    </tr>\n",
       "  </tbody>\n",
       "</table>\n",
       "</div>"
      ],
      "text/plain": [
       "             Player  HOF_Prob\n",
       "29       Al Horford       1.0\n",
       "1364      John Wall       1.0\n",
       "1527     Kevin Love       1.0\n",
       "1556  Klay Thompson       1.0\n",
       "1574     Kyle Lowry       1.0"
      ]
     },
     "execution_count": 17,
     "metadata": {},
     "output_type": "execute_result"
    }
   ],
   "source": [
    "data_future_pred[(data_future_pred['AllStar']==5)][['Player','HOF_Prob']]"
   ]
  },
  {
   "cell_type": "code",
   "execution_count": 18,
   "metadata": {
    "scrolled": true
   },
   "outputs": [
    {
     "data": {
      "text/html": [
       "<div>\n",
       "<style scoped>\n",
       "    .dataframe tbody tr th:only-of-type {\n",
       "        vertical-align: middle;\n",
       "    }\n",
       "\n",
       "    .dataframe tbody tr th {\n",
       "        vertical-align: top;\n",
       "    }\n",
       "\n",
       "    .dataframe thead th {\n",
       "        text-align: right;\n",
       "    }\n",
       "</style>\n",
       "<table border=\"1\" class=\"dataframe\">\n",
       "  <thead>\n",
       "    <tr style=\"text-align: right;\">\n",
       "      <th></th>\n",
       "      <th>Player</th>\n",
       "      <th>HOF_Prob</th>\n",
       "      <th>AllStar</th>\n",
       "    </tr>\n",
       "  </thead>\n",
       "  <tbody>\n",
       "    <tr>\n",
       "      <th>1556</th>\n",
       "      <td>Klay Thompson</td>\n",
       "      <td>1.0</td>\n",
       "      <td>5.0</td>\n",
       "    </tr>\n",
       "    <tr>\n",
       "      <th>2100</th>\n",
       "      <td>Rajon Rondo</td>\n",
       "      <td>1.0</td>\n",
       "      <td>4.0</td>\n",
       "    </tr>\n",
       "  </tbody>\n",
       "</table>\n",
       "</div>"
      ],
      "text/plain": [
       "             Player  HOF_Prob  AllStar\n",
       "1556  Klay Thompson       1.0      5.0\n",
       "2100    Rajon Rondo       1.0      4.0"
      ]
     },
     "execution_count": 18,
     "metadata": {},
     "output_type": "execute_result"
    }
   ],
   "source": [
    "data_future_pred.query('(Player == \"Klay Thompson\") | (Player == \"Rajon Rondo\")')[['Player','HOF_Prob','AllStar']]"
   ]
  },
  {
   "cell_type": "markdown",
   "metadata": {},
   "source": [
    "However, as the precision on the training set is only 50%. Half of the players listed above might not actually get inducted in the future. "
   ]
  },
  {
   "cell_type": "markdown",
   "metadata": {},
   "source": [
    "### Two Representing features, AllStar and VORP"
   ]
  },
  {
   "cell_type": "markdown",
   "metadata": {},
   "source": [
    "We first plot the dependence of whether the player is a Hall of Fame inductee on the number of all star games he plays and his value over replacement player (VORP). "
   ]
  },
  {
   "cell_type": "code",
   "execution_count": 19,
   "metadata": {},
   "outputs": [
    {
     "data": {
      "image/png": "[encoded data removed]",
      "text/plain": [
       "<Figure size 432x288 with 1 Axes>"
      ]
     },
     "metadata": {
      "needs_background": "light"
     },
     "output_type": "display_data"
    }
   ],
   "source": [
    "X_in = data_in[['AllStar','VORP']]\n",
    "y_in = data_normalized['HOF']\n",
    "\n",
    "\n",
    "# data to plot\n",
    "X_in_1 = X_in[y_in==1]\n",
    "X_in_0 = X_in[y_in==0]\n",
    " \n",
    "# create plot\n",
    "fig, ax = plt.subplots()\n",
    "index = np.arange(n_groups)\n",
    "opacity = 0.8\n",
    "\n",
    "plt.scatter(X_in_0['AllStar'], X_in_0['VORP'],\n",
    "            alpha=opacity,\n",
    "            color='r',\n",
    "            marker = 'o',label='non-HOF')\n",
    "plt.scatter(X_in_1['AllStar'], X_in_1['VORP'],\n",
    "            alpha=opacity,\n",
    "            color='b',\n",
    "            marker = 'o',label='HOF')\n",
    "\n",
    "\n",
    "plt.xticks(index)\n",
    "plt.xlabel(\"'All Star'\")\n",
    "plt.ylabel(\"'VORP'\")\n",
    "plt.title(\"All Star' and 'VORP' v.s. HOF\")\n",
    "plt.legend()\n",
    " \n",
    "plt.tight_layout()\n",
    "plt.show()"
   ]
  },
  {
   "cell_type": "markdown",
   "metadata": {},
   "source": [
    "We now apply naive Bayes and show the probability of being inducted versus the number of all star game played."
   ]
  },
  {
   "cell_type": "code",
   "execution_count": 20,
   "metadata": {},
   "outputs": [
    {
     "data": {
      "text/plain": [
       "GaussianNB(priors=None)"
      ]
     },
     "execution_count": 20,
     "metadata": {},
     "output_type": "execute_result"
    }
   ],
   "source": [
    "X_in = X[['AllStar','VORP']]\n",
    "y_in = y\n",
    "model = GaussianNB()\n",
    "model.fit(X_in, y_in)"
   ]
  },
  {
   "cell_type": "code",
   "execution_count": 21,
   "metadata": {},
   "outputs": [
    {
     "name": "stdout",
     "output_type": "stream",
     "text": [
      "[0.3625, 0.9666666666666667, 0.5272727272727272]\n"
     ]
    }
   ],
   "source": [
    "y_pred = model.predict(X_in)\n",
    "print([Precision_Func(y,y_pred),Recall_Func(y,y_pred),F1_Score_Func(y,y_pred)])"
   ]
  },
  {
   "cell_type": "code",
   "execution_count": 22,
   "metadata": {},
   "outputs": [
    {
     "name": "stdout",
     "output_type": "stream",
     "text": [
      "<matplotlib.colors.ListedColormap object at 0x000001F05DA88D30>\n"
     ]
    }
   ],
   "source": [
    "print(plt.cm.get_cmap(None, 2))"
   ]
  },
  {
   "cell_type": "code",
   "execution_count": 23,
   "metadata": {},
   "outputs": [
    {
     "data": {
      "image/png": "[encoded data removed]",
      "text/plain": [
       "<Figure size 432x288 with 1 Axes>"
      ]
     },
     "metadata": {
      "needs_background": "light"
     },
     "output_type": "display_data"
    }
   ],
   "source": [
    "h = 0.1\n",
    "x_min = data_in[['AllStar']].min().values-1; x_max = data_in[['AllStar']].max().values+1;\n",
    "y_min = data_in[['VORP']].min().values-20; y_max = data_in[['VORP']].max().values+20;\n",
    "xx, yy = np.meshgrid(np.arange(x_min, x_max, h),np.arange(y_min, y_max, h))\n",
    "Z = model.predict(np.c_[(xx.ravel()-normalization_offset[['AllStar']].values)/normalization_scaling[['AllStar']].values, \n",
    "                        (yy.ravel()-normalization_offset[['VORP']].values)/normalization_scaling[['VORP']].values])\n",
    "\n",
    "Z = Z.reshape(xx.shape)\n",
    "\n",
    "Z_prob = model.predict_proba(np.c_[(xx.ravel()-normalization_offset[['AllStar']].values)/normalization_scaling[['AllStar']].values, \n",
    "                        (yy.ravel()-normalization_offset[['VORP']].values)/normalization_scaling[['VORP']].values])\n",
    "\n",
    "Z_prob = Z_prob[:,1].reshape(xx.shape)\n",
    "\n",
    "\n",
    "\n",
    "plt.pcolormesh(xx, yy, Z, cmap=plt.cm.Paired)\n",
    "plt.scatter(X_in_0['AllStar'], X_in_0['VORP'],\n",
    "            alpha=opacity,\n",
    "            color='r',\n",
    "            marker = 'o',label='non-HOF')\n",
    "plt.scatter(X_in_1['AllStar'], X_in_1['VORP'],\n",
    "            alpha=opacity,\n",
    "            color='b',\n",
    "            marker = 'o',label='HOF')\n",
    "plt.xlim(-0.5,15.5)\n",
    "plt.ylim(-20,120)\n",
    "\n",
    "plt.xticks(index)\n",
    "plt.xlabel(\"'AllStar'\")\n",
    "plt.ylabel(\"'VORP'\")\n",
    "plt.title(\"'AllStar' and 'VORP' v.s. HOF\")\n",
    "plt.legend()\n",
    "plt.savefig('../figures/naive-bayes/classification-two-rep-feature.png')\n",
    "\n",
    "plt.show()"
   ]
  },
  {
   "cell_type": "code",
   "execution_count": 24,
   "metadata": {},
   "outputs": [],
   "source": [
    "X_future_in = X_future[['AllStar','VORP']]\n",
    "\n",
    "data_future_pred = pd.DataFrame()\n",
    "data_future_pred['Player'] = data_future['Player']\n",
    "data_future_pred['AllStar'] = data_future['AllStar']\n",
    "data_future_pred['VORP'] = data_future['VORP']\n",
    "data_future_pred['HOF'] = model.predict(X_future_in)\n",
    "data_future_pred['HOF_Prob'] = model.predict_proba(X_future_in)[:,1]"
   ]
  },
  {
   "cell_type": "code",
   "execution_count": 25,
   "metadata": {},
   "outputs": [
    {
     "data": {
      "image/png": "[encoded data removed]",
      "text/plain": [
       "<Figure size 432x288 with 1 Axes>"
      ]
     },
     "metadata": {
      "needs_background": "light"
     },
     "output_type": "display_data"
    }
   ],
   "source": [
    "X_future_0 = data_future_pred[data_future_pred['HOF'] == 0]\n",
    "X_future_1 = data_future_pred[data_future_pred['HOF'] == 1]\n",
    "\n",
    "plt.pcolormesh(xx, yy, Z, cmap=plt.cm.Paired)\n",
    "plt.scatter(X_future_0['AllStar'], X_future_0['VORP'],\n",
    "            alpha=opacity,\n",
    "            color='b',\n",
    "            marker = 'x',label='non-HOF')\n",
    "plt.scatter(X_future_1['AllStar'], X_future_1['VORP'],\n",
    "            alpha=opacity,\n",
    "            color='r',\n",
    "            marker = 'o',label='HOF')\n",
    "plt.xlim(-0.5,15.5)\n",
    "plt.ylim(-20,120)\n",
    "\n",
    "plt.xticks(index)\n",
    "plt.xlabel(\"'AllStar'\")\n",
    "plt.ylabel(\"'VORP'\")\n",
    "plt.title(\"'AllStar' and 'VORP' v.s. HOF\")\n",
    "plt.legend()\n",
    "plt.show()"
   ]
  },
  {
   "cell_type": "markdown",
   "metadata": {},
   "source": [
    "We find that all players who the logistic regression model using only one representing feature doesn't predict to be Hall of famers but are expected to be inducted in the future are predicted to be inducted based on naive bayes."
   ]
  },
  {
   "cell_type": "code",
   "execution_count": 26,
   "metadata": {
    "scrolled": true
   },
   "outputs": [
    {
     "data": {
      "text/html": [
       "<div>\n",
       "<style scoped>\n",
       "    .dataframe tbody tr th:only-of-type {\n",
       "        vertical-align: middle;\n",
       "    }\n",
       "\n",
       "    .dataframe tbody tr th {\n",
       "        vertical-align: top;\n",
       "    }\n",
       "\n",
       "    .dataframe thead th {\n",
       "        text-align: right;\n",
       "    }\n",
       "</style>\n",
       "<table border=\"1\" class=\"dataframe\">\n",
       "  <thead>\n",
       "    <tr style=\"text-align: right;\">\n",
       "      <th></th>\n",
       "      <th>Player</th>\n",
       "      <th>HOF_Prob</th>\n",
       "    </tr>\n",
       "  </thead>\n",
       "  <tbody>\n",
       "    <tr>\n",
       "      <th>29</th>\n",
       "      <td>Al Horford</td>\n",
       "      <td>1.0</td>\n",
       "    </tr>\n",
       "    <tr>\n",
       "      <th>1364</th>\n",
       "      <td>John Wall</td>\n",
       "      <td>1.0</td>\n",
       "    </tr>\n",
       "    <tr>\n",
       "      <th>1527</th>\n",
       "      <td>Kevin Love</td>\n",
       "      <td>1.0</td>\n",
       "    </tr>\n",
       "    <tr>\n",
       "      <th>1556</th>\n",
       "      <td>Klay Thompson</td>\n",
       "      <td>1.0</td>\n",
       "    </tr>\n",
       "    <tr>\n",
       "      <th>1574</th>\n",
       "      <td>Kyle Lowry</td>\n",
       "      <td>1.0</td>\n",
       "    </tr>\n",
       "  </tbody>\n",
       "</table>\n",
       "</div>"
      ],
      "text/plain": [
       "             Player  HOF_Prob\n",
       "29       Al Horford       1.0\n",
       "1364      John Wall       1.0\n",
       "1527     Kevin Love       1.0\n",
       "1556  Klay Thompson       1.0\n",
       "1574     Kyle Lowry       1.0"
      ]
     },
     "execution_count": 26,
     "metadata": {},
     "output_type": "execute_result"
    }
   ],
   "source": [
    "data_future_pred[(data_future_pred['AllStar']==5)][['Player','HOF_Prob']]"
   ]
  },
  {
   "cell_type": "code",
   "execution_count": 27,
   "metadata": {
    "scrolled": true
   },
   "outputs": [
    {
     "data": {
      "text/html": [
       "<div>\n",
       "<style scoped>\n",
       "    .dataframe tbody tr th:only-of-type {\n",
       "        vertical-align: middle;\n",
       "    }\n",
       "\n",
       "    .dataframe tbody tr th {\n",
       "        vertical-align: top;\n",
       "    }\n",
       "\n",
       "    .dataframe thead th {\n",
       "        text-align: right;\n",
       "    }\n",
       "</style>\n",
       "<table border=\"1\" class=\"dataframe\">\n",
       "  <thead>\n",
       "    <tr style=\"text-align: right;\">\n",
       "      <th></th>\n",
       "      <th>Player</th>\n",
       "      <th>HOF_Prob</th>\n",
       "      <th>AllStar</th>\n",
       "    </tr>\n",
       "  </thead>\n",
       "  <tbody>\n",
       "    <tr>\n",
       "      <th>1556</th>\n",
       "      <td>Klay Thompson</td>\n",
       "      <td>1.0</td>\n",
       "      <td>5.0</td>\n",
       "    </tr>\n",
       "    <tr>\n",
       "      <th>2100</th>\n",
       "      <td>Rajon Rondo</td>\n",
       "      <td>1.0</td>\n",
       "      <td>4.0</td>\n",
       "    </tr>\n",
       "  </tbody>\n",
       "</table>\n",
       "</div>"
      ],
      "text/plain": [
       "             Player  HOF_Prob  AllStar\n",
       "1556  Klay Thompson       1.0      5.0\n",
       "2100    Rajon Rondo       1.0      4.0"
      ]
     },
     "execution_count": 27,
     "metadata": {},
     "output_type": "execute_result"
    }
   ],
   "source": [
    "data_future_pred.query('(Player == \"Klay Thompson\") | (Player == \"Rajon Rondo\")')[['Player','HOF_Prob','AllStar']]"
   ]
  },
  {
   "cell_type": "markdown",
   "metadata": {},
   "source": [
    "However, as the precision on the training set is now lowered to 36%. Roughy two third of the players listed above might not actually get inducted in the future. "
   ]
  }
 ],
 "metadata": {
  "kernelspec": {
   "display_name": "Python 3",
   "language": "python",
   "name": "python3"
  },
  "language_info": {
   "codemirror_mode": {
    "name": "ipython",
    "version": 3
   },
   "file_extension": ".py",
   "mimetype": "text/x-python",
   "name": "python",
   "nbconvert_exporter": "python",
   "pygments_lexer": "ipython3",
   "version": "3.7.0"
  }
 },
 "nbformat": 4,
 "nbformat_minor": 2
}
