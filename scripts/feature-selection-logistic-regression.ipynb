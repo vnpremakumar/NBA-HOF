{
 "cells": [
  {
   "cell_type": "markdown",
   "metadata": {},
   "source": [
    "# Introduction"
   ]
  },
  {
   "cell_type": "markdown",
   "metadata": {},
   "source": [
    "In this note book, we present how we select features based on correlations with the Hall of Fame features. We also investigate the performance using Logistic regression."
   ]
  },
  {
   "cell_type": "markdown",
   "metadata": {},
   "source": [
    "# Feature Selection"
   ]
  },
  {
   "cell_type": "markdown",
   "metadata": {},
   "source": [
    "### Importing Packages"
   ]
  },
  {
   "cell_type": "code",
   "execution_count": 1,
   "metadata": {},
   "outputs": [],
   "source": [
    "import pandas as pd\n",
    "import numpy as np\n",
    "import sklearn\n",
    "import matplotlib.pyplot as plt\n",
    "\n",
    "from sklearn.metrics import classification_report\n",
    "from sklearn.metrics import precision_recall_fscore_support\n",
    "from sklearn.preprocessing import StandardScaler\n",
    "from sklearn.linear_model import LogisticRegression\n",
    "from sklearn.model_selection import train_test_split\n",
    "from sklearn.metrics import f1_score\n",
    "from sklearn.model_selection import learning_curve\n",
    "from sklearn.model_selection import StratifiedKFold\n",
    "\n",
    "import statsmodels.discrete.discrete_model as sm\n",
    "\n",
    "import random"
   ]
  },
  {
   "cell_type": "markdown",
   "metadata": {},
   "source": [
    "### Importing Data"
   ]
  },
  {
   "cell_type": "code",
   "execution_count": 2,
   "metadata": {},
   "outputs": [],
   "source": [
    "# Import the data\n",
    "player_stats_and_awards = pd.read_csv('./data/player_stats_and_awards.csv')"
   ]
  },
  {
   "cell_type": "code",
   "execution_count": 3,
   "metadata": {},
   "outputs": [
    {
     "data": {
      "text/plain": [
       "Index(['Player', 'Birth Year', 'G', 'GS', 'MP', 'FG', 'FGA', 'FG%', '3P',\n",
       "       '3PA', '3P%', '2P', '2PA', '2P%', 'eFG%', 'FT', 'FTA', 'FT%', 'ORB',\n",
       "       'DRB', 'TRB', 'AST', 'STL', 'BLK', 'TOV', 'PF', 'PTS', 'PER', 'TS%',\n",
       "       '3PAr', 'FTr', 'ORB%', 'DRB%', 'TRB%', 'AST%', 'STL%', 'BLK%', 'TOV%',\n",
       "       'USG%', 'OWS', 'DWS', 'WS', 'WS/48', 'OBPM', 'DBPM', 'BPM', 'VORP',\n",
       "       'Year_start', 'Year_end', 'Length', 'HOF', 'AllStar_MVP', 'Final_MVP',\n",
       "       'DPOY', 'Final', 'Champion', 'AllStar', 'First team', 'Second team',\n",
       "       'Third team', 'MVPs'],\n",
       "      dtype='object')"
      ]
     },
     "execution_count": 3,
     "metadata": {},
     "output_type": "execute_result"
    }
   ],
   "source": [
    "# All the features of the data\n",
    "player_stats_and_awards.columns"
   ]
  },
  {
   "cell_type": "markdown",
   "metadata": {},
   "source": [
    "Here, we choose to work with players who start their careers after 1982 and finish their careers before 2015. We also normalized all the features except 'HOF.'   "
   ]
  },
  {
   "cell_type": "code",
   "execution_count": 4,
   "metadata": {},
   "outputs": [],
   "source": [
    "# data_in: data for training the model\n",
    "data_in = player_stats_and_awards.query('Year_start >= 1982 & Year_end <= 2015')\n",
    "\n",
    "# data_future: data for predicting future HOF inductees, need to be normalized the same way as data_in\n",
    "data_future = player_stats_and_awards.query('Year_end > 2015')\n",
    "\n",
    "# normalized data_in and data_future as X and X_future\n",
    "X = data_in.drop([\"Player\",\"HOF\"], axis = 1)\n",
    "normalization_offset = X.mean()\n",
    "normalization_scaling = X.std()\n",
    "X = (X - normalization_offset)/normalization_scaling\n",
    "\n",
    "X_future = data_future.drop([\"Player\",\"HOF\"], axis = 1)\n",
    "X_future = (X_future - normalization_offset)/normalization_scaling\n",
    "\n",
    "\n",
    "y = data_in[\"HOF\"]\n",
    "data_normalized = pd.concat([X,y], axis=1)"
   ]
  },
  {
   "cell_type": "markdown",
   "metadata": {},
   "source": [
    "We now present the function that select the important features (refered as representing features). This function first groups all the features based on correlations, except the feature of interest, 'HOF.' It then finds the representing features in the each group that have the highest correlations with 'HOF,' and return the result as a list.  "
   ]
  },
  {
   "cell_type": "code",
   "execution_count": 5,
   "metadata": {},
   "outputs": [],
   "source": [
    "# Identify most important features by studying the correlations\n",
    "def Feature_Selection(dataframe, target_feature, threshold):\n",
    "    # All list of all the features\n",
    "    columns_list = dataframe.columns.tolist()\n",
    "    # remove the feature of interest, target_feature\n",
    "    columns_list.remove(target_feature)\n",
    "    # the list of representing features\n",
    "    representing_feature_list = []\n",
    "    # keep only the features that have the highest correlations with the target_feature.\n",
    "    number_of_largest = 1\n",
    "    while columns_list: \n",
    "        name = columns_list[0]\n",
    "        df_temp = abs(dataframe[columns_list].corr())\n",
    "    \n",
    "        # identify the features that have high mutual correlations and group them.\n",
    "        # High correlations indicate that those features might represent similar structure of the data\n",
    "        group_index = df_temp.index[df_temp[name] > threshold]\n",
    "    \n",
    "        # For the features that have high correlations, find the representing features that have highest correlations with 'HOF'\n",
    "        corr_target = abs(dataframe[group_index].corrwith(dataframe[target_feature]))\n",
    "        representing_feature_list = representing_feature_list + list(corr_target.nlargest(n=number_of_largest).index)\n",
    "        \n",
    "        for x in list(group_index):\n",
    "            columns_list.remove(x)\n",
    "    \n",
    "    # Sort the representing_feature_list according to correlatios with target_feature       \n",
    "    representing_feature_list = list(dataframe[representing_feature_list].corrwith(dataframe[target_feature]).sort_values(ascending=False).index)\n",
    "            \n",
    "    return representing_feature_list"
   ]
  },
  {
   "cell_type": "code",
   "execution_count": 6,
   "metadata": {
    "scrolled": true
   },
   "outputs": [
    {
     "name": "stdout",
     "output_type": "stream",
     "text": [
      "AllStar        0.834849\n",
      "VORP           0.616421\n",
      "WS             0.553751\n",
      "AllStar_MVP    0.506579\n",
      "First team     0.436193\n",
      "AST            0.421578\n",
      "Second team    0.418108\n",
      "Third team     0.402422\n",
      "BLK            0.360460\n",
      "Final_MVP      0.348322\n",
      "DPOY           0.320976\n",
      "Final          0.281493\n",
      "3PA            0.267193\n",
      "BPM            0.181310\n",
      "PER            0.178284\n",
      "USG%           0.140627\n",
      "AST%           0.114789\n",
      "DBPM           0.103976\n",
      "TS%            0.095486\n",
      "3P%            0.067974\n",
      "FT%            0.065818\n",
      "DRB%           0.063592\n",
      "BLK%           0.054436\n",
      "TRB%           0.039168\n",
      "FTr            0.030922\n",
      "STL%           0.029409\n",
      "3PAr          -0.012021\n",
      "TOV%          -0.025935\n",
      "Year_start    -0.097343\n",
      "dtype: float64\n"
     ]
    }
   ],
   "source": [
    "feature_list = Feature_Selection(data_normalized, 'HOF', 0.8)\n",
    "print(data_normalized[feature_list].corrwith(data_normalized['HOF']).sort_values(ascending=False))"
   ]
  },
  {
   "cell_type": "markdown",
   "metadata": {},
   "source": [
    "## Logistic Regression"
   ]
  },
  {
   "cell_type": "markdown",
   "metadata": {},
   "source": [
    "### Precision, Recall And F1 score"
   ]
  },
  {
   "cell_type": "code",
   "execution_count": 7,
   "metadata": {},
   "outputs": [],
   "source": [
    "def Precision_Func(y_true,y_pred):\n",
    "    y_true_np = np.array(y_true)\n",
    "    y_pred_np= np.array(y_pred)\n",
    "    y_true_positive_np = y_true_np & y_pred_np\n",
    "    \n",
    "    if sum(y_pred_np) > 0:\n",
    "        precision = sum(y_true_positive_np)/sum(y_pred_np) \n",
    "    else:\n",
    "        precision = -1 # if the no predictive positive, return a signal -1 \n",
    "    \n",
    "    return precision"
   ]
  },
  {
   "cell_type": "code",
   "execution_count": 8,
   "metadata": {},
   "outputs": [],
   "source": [
    "def Recall_Func(y_true,y_pred):\n",
    "    y_true_np = np.array(y_true)\n",
    "    y_pred_np= np.array(y_pred)\n",
    "    y_true_positive_np = y_true_np & y_pred_np\n",
    "    \n",
    "    if sum(y_true_np) > 0:\n",
    "        recall = sum(y_true_positive_np)/sum(y_true_np) \n",
    "    else:\n",
    "        recall = -1 # if the no true element, return a signal -1 \n",
    "    \n",
    "    return recall"
   ]
  },
  {
   "cell_type": "code",
   "execution_count": 9,
   "metadata": {},
   "outputs": [],
   "source": [
    "def F1_Score_Func(y_true,y_pred):\n",
    "    precision = Precision_Func(y_true,y_pred)\n",
    "    recall = Recall_Func(y_true,y_pred)\n",
    "    \n",
    "    if (precision > 0) & (recall > 0):\n",
    "        f1 = 2*precision*recall / (precision + recall)\n",
    "    elif (precision == 0 ) & (recall == 0):\n",
    "        # the limit of no true positive is f1 = 0\n",
    "        f1 = 0\n",
    "    elif (precision < 0) & (recall >= 0):\n",
    "        # no predicted positive while true elements are present, it is reasonable to set f1 to zero\n",
    "        f1 = 0\n",
    "    elif (recall < 0) :\n",
    "        # no ture elements to be learned from, there is issue in the training set\n",
    "        f1 = -1\n",
    "        print('There are no true examples in the training set!')\n",
    "    \n",
    "    return f1"
   ]
  },
  {
   "cell_type": "markdown",
   "metadata": {},
   "source": [
    "### Learning Curve"
   ]
  },
  {
   "cell_type": "markdown",
   "metadata": {},
   "source": [
    "##### Learning curve with the most important representing feature, 'AllStar.'"
   ]
  },
  {
   "cell_type": "markdown",
   "metadata": {},
   "source": [
    "We now present the learning curve of the logistic regression with only the most important representing feature, 'AllStar.'"
   ]
  },
  {
   "cell_type": "code",
   "execution_count": 10,
   "metadata": {},
   "outputs": [
    {
     "data": {
      "image/png": "[encoded data removed]",
      "text/plain": [
       "<Figure size 432x288 with 1 Axes>"
      ]
     },
     "metadata": {
      "needs_background": "light"
     },
     "output_type": "display_data"
    }
   ],
   "source": [
    "model = LogisticRegression(solver = 'lbfgs', C = 1e5, multi_class = 'multinomial')\n",
    "X_in = data_normalized[feature_list[0:1]]\n",
    "y_in = data_normalized['HOF']\n",
    "X = X_in\n",
    "y = y_in\n",
    "n_size = 10;\n",
    "train_sizes, train_scores, test_scores = learning_curve(\n",
    "    model, X, y, cv = 5, n_jobs=1, train_sizes=np.linspace(.4, 1.0, n_size), scoring='f1',shuffle = True)\n",
    "train_scores_mean = np.mean(train_scores, axis=1)\n",
    "train_scores_std = np.std(train_scores, axis=1)\n",
    "test_scores_mean = np.mean(test_scores, axis=1)\n",
    "test_scores_std = np.std(test_scores, axis=1)\n",
    "\n",
    "plt.grid()\n",
    "plt.ylim(0.8, 1.1)\n",
    "plt.fill_between(train_sizes, train_scores_mean - train_scores_std,\n",
    "                 train_scores_mean + train_scores_std, alpha=0.1,\n",
    "                 color=\"r\")\n",
    "plt.fill_between(train_sizes, test_scores_mean - test_scores_std,\n",
    "                 test_scores_mean + test_scores_std, alpha=0.1, color=\"g\")\n",
    "plt.plot(train_sizes, train_scores_mean, 'o-', color=\"r\",\n",
    "         label=\"Training score\")\n",
    "plt.plot(train_sizes, test_scores_mean, 'o-', color=\"g\",\n",
    "         label=\"Cross-validation score\")\n",
    "\n",
    "plt.legend(loc=\"best\")\n",
    "\n",
    "plt.savefig('test.png')"
   ]
  },
  {
   "cell_type": "markdown",
   "metadata": {},
   "source": [
    "We find that the learning curve varies a lot as we rerun the script several times. This indicates that the number the data is not enough for the learning curve to converge to the statistical expectation. To overcome this, we apply bootstraping technique."
   ]
  },
  {
   "cell_type": "code",
   "execution_count": 11,
   "metadata": {},
   "outputs": [],
   "source": [
    "def Learning_Curve_Bootstraping(X_in, y_in, model_in, Bootstraping_size, train_sizes_list):\n",
    "\n",
    "    train_scores_mean_list = np.zeros([len(train_sizes_list),Bootstraping_size])\n",
    "    test_scores_mean_list = np.zeros([len(train_sizes_list),Bootstraping_size])\n",
    "    for i in range(0,Bootstraping_size):\n",
    "        model = sklearn.base.clone(model_in, safe=True)\n",
    "        index_list = list(np.random.choice(range(0,X_in.shape[0]),replace=True,size = X_in.shape[0]))\n",
    "        X = X_in.iloc[index_list]\n",
    "        y = y_in.iloc[index_list]\n",
    "        train_sizes, train_scores, test_scores = learning_curve(\n",
    "            model, X, y, n_jobs=1, cv=5, train_sizes=train_sizes_list, scoring=\"f1\",shuffle = True)\n",
    "        train_scores_mean_list[:,i] = np.mean(train_scores, axis=1)\n",
    "        test_scores_mean_list[:,i] = np.mean(test_scores, axis=1)\n",
    "\n",
    "    train_scores_mean = np.mean(train_scores_mean_list, axis=1)\n",
    "    train_scores_std = np.std(train_scores_mean_list, axis=1)\n",
    "    test_scores_mean = np.mean(test_scores_mean_list, axis=1)\n",
    "    test_scores_std = np.std(test_scores_mean_list, axis=1)\n",
    "    \n",
    "    return train_scores_mean, train_scores_std, test_scores_mean, test_scores_std"
   ]
  },
  {
   "cell_type": "code",
   "execution_count": 12,
   "metadata": {},
   "outputs": [
    {
     "name": "stderr",
     "output_type": "stream",
     "text": [
      "C:\\Users\\Weinei\\Anaconda3\\lib\\site-packages\\sklearn\\metrics\\classification.py:1135: UndefinedMetricWarning: F-score is ill-defined and being set to 0.0 due to no predicted samples.\n",
      "  'precision', 'predicted', average, warn_for)\n",
      "C:\\Users\\Weinei\\Anaconda3\\lib\\site-packages\\sklearn\\metrics\\classification.py:1135: UndefinedMetricWarning: F-score is ill-defined and being set to 0.0 due to no predicted samples.\n",
      "  'precision', 'predicted', average, warn_for)\n",
      "C:\\Users\\Weinei\\Anaconda3\\lib\\site-packages\\sklearn\\metrics\\classification.py:1135: UndefinedMetricWarning: F-score is ill-defined and being set to 0.0 due to no predicted samples.\n",
      "  'precision', 'predicted', average, warn_for)\n",
      "C:\\Users\\Weinei\\Anaconda3\\lib\\site-packages\\sklearn\\metrics\\classification.py:1135: UndefinedMetricWarning: F-score is ill-defined and being set to 0.0 due to no predicted samples.\n",
      "  'precision', 'predicted', average, warn_for)\n",
      "C:\\Users\\Weinei\\Anaconda3\\lib\\site-packages\\sklearn\\metrics\\classification.py:1135: UndefinedMetricWarning: F-score is ill-defined and being set to 0.0 due to no predicted samples.\n",
      "  'precision', 'predicted', average, warn_for)\n",
      "C:\\Users\\Weinei\\Anaconda3\\lib\\site-packages\\sklearn\\metrics\\classification.py:1135: UndefinedMetricWarning: F-score is ill-defined and being set to 0.0 due to no predicted samples.\n",
      "  'precision', 'predicted', average, warn_for)\n",
      "C:\\Users\\Weinei\\Anaconda3\\lib\\site-packages\\sklearn\\metrics\\classification.py:1135: UndefinedMetricWarning: F-score is ill-defined and being set to 0.0 due to no predicted samples.\n",
      "  'precision', 'predicted', average, warn_for)\n",
      "C:\\Users\\Weinei\\Anaconda3\\lib\\site-packages\\sklearn\\metrics\\classification.py:1135: UndefinedMetricWarning: F-score is ill-defined and being set to 0.0 due to no predicted samples.\n",
      "  'precision', 'predicted', average, warn_for)\n",
      "C:\\Users\\Weinei\\Anaconda3\\lib\\site-packages\\sklearn\\metrics\\classification.py:1135: UndefinedMetricWarning: F-score is ill-defined and being set to 0.0 due to no predicted samples.\n",
      "  'precision', 'predicted', average, warn_for)\n",
      "C:\\Users\\Weinei\\Anaconda3\\lib\\site-packages\\sklearn\\metrics\\classification.py:1135: UndefinedMetricWarning: F-score is ill-defined and being set to 0.0 due to no predicted samples.\n",
      "  'precision', 'predicted', average, warn_for)\n"
     ]
    },
    {
     "data": {
      "image/png": "[encoded data removed]",
      "text/plain": [
       "<Figure size 720x720 with 4 Axes>"
      ]
     },
     "metadata": {
      "needs_background": "light"
     },
     "output_type": "display_data"
    }
   ],
   "source": [
    "model_in = LogisticRegression(solver = 'lbfgs', C = 1e5, multi_class = 'multinomial')\n",
    "X_in = data_normalized[feature_list[0:1]]\n",
    "y_in = data_normalized['HOF']\n",
    "train_sizes_list = np.linspace(.4, 1.0, 10)\n",
    "\n",
    "plt.figure(figsize=(10,10))\n",
    "\n",
    "i=0\n",
    "for Bootstraping_size in [10, 50, 100, 200]:\n",
    "    train_scores_mean, train_scores_std, test_scores_mean, test_scores_std = Learning_Curve_Bootstraping(X_in, \n",
    "                                                       y_in, model_in, Bootstraping_size, train_sizes_list)\n",
    "    plt.subplot(2,2,i+1)\n",
    "    \n",
    "    plt.grid()\n",
    "    plt.fill_between(train_sizes, train_scores_mean - train_scores_std,\n",
    "                     train_scores_mean + train_scores_std, alpha=0.1,\n",
    "                     color=\"r\")\n",
    "    plt.fill_between(train_sizes, test_scores_mean - test_scores_std,\n",
    "                     test_scores_mean + test_scores_std, alpha=0.1, color=\"g\")\n",
    "    plt.plot(train_sizes, train_scores_mean, 'o-', color=\"r\",\n",
    "             label=\"Training score\")\n",
    "    plt.plot(train_sizes, test_scores_mean, 'o-', color=\"g\",\n",
    "             label=\"Cross-validation score\")\n",
    "    plt.title('BS size = {0:d}'.format(Bootstraping_size))\n",
    "    plt.xlabel('Training Size')\n",
    "    plt.ylabel('F1 Score')\n",
    "    plt.ylim(0.8,1.0)\n",
    "    plt.legend(loc=\"best\")\n",
    "    i = i + 1\n",
    "    \n",
    "\n",
    "plt.show()"
   ]
  },
  {
   "cell_type": "code",
   "execution_count": 13,
   "metadata": {},
   "outputs": [],
   "source": [
    "# Saving the data for the last figure\n",
    "train_sizes_1 = train_sizes\n",
    "train_scores_mean_1 = train_scores_mean\n",
    "train_scores_std_1 = train_scores_std\n",
    "test_scores_mean_1 = test_scores_mean\n",
    "test_scores_std_1 = test_scores_std"
   ]
  },
  {
   "cell_type": "code",
   "execution_count": 15,
   "metadata": {},
   "outputs": [
    {
     "data": {
      "image/png": "[encoded data removed]",
      "text/plain": [
       "<Figure size 432x288 with 1 Axes>"
      ]
     },
     "metadata": {
      "needs_background": "light"
     },
     "output_type": "display_data"
    }
   ],
   "source": [
    "# saving the last figure\n",
    "\n",
    "plt.grid()\n",
    "plt.fill_between(train_sizes_1, train_scores_mean_1 - train_scores_std_1,\n",
    "                 train_scores_mean_1 + train_scores_std_1, alpha=0.1,\n",
    "                 color=\"r\")\n",
    "plt.fill_between(train_sizes_1, test_scores_mean_1 - test_scores_std_1,\n",
    "                 test_scores_mean_1 + test_scores_std_1, alpha=0.1, color=\"g\")\n",
    "plt.plot(train_sizes_1, train_scores_mean_1, 'o-', color=\"r\",\n",
    "         label=\"Training score\")\n",
    "plt.plot(train_sizes_1, test_scores_mean_1, 'o-', color=\"g\",\n",
    "         label=\"Cross-validation score\")\n",
    "plt.title(\"Learning Curve for 'AllStar'\")\n",
    "plt.xlabel('Training Size')\n",
    "plt.ylabel('F1 Score')\n",
    "plt.ylim(0.8,1.0)\n",
    "plt.legend(loc=\"best\")\n",
    "plt.savefig('./figures/feature-selection-logistic-regression/learn-curve-one-rep-feature.png')"
   ]
  },
  {
   "cell_type": "markdown",
   "metadata": {},
   "source": [
    "As the number of the boostraping sets increases, the learning curve becomes smoother and shows consistent behavior. Based on the these learning curve, the model has low bias, as the f1 score can attain around 0.88, and low variance, as the gap between training score and cross-validation score is small. Next, we explore the possbility to improve the results by including more representing features. "
   ]
  },
  {
   "cell_type": "markdown",
   "metadata": {},
   "source": [
    "##### Learning curve with two most important representing features, 'AllStar' and 'VORP'"
   ]
  },
  {
   "cell_type": "code",
   "execution_count": 16,
   "metadata": {},
   "outputs": [
    {
     "name": "stderr",
     "output_type": "stream",
     "text": [
      "C:\\Users\\Weinei\\Anaconda3\\lib\\site-packages\\sklearn\\metrics\\classification.py:1135: UndefinedMetricWarning: F-score is ill-defined and being set to 0.0 due to no predicted samples.\n",
      "  'precision', 'predicted', average, warn_for)\n",
      "C:\\Users\\Weinei\\Anaconda3\\lib\\site-packages\\sklearn\\metrics\\classification.py:1135: UndefinedMetricWarning: F-score is ill-defined and being set to 0.0 due to no predicted samples.\n",
      "  'precision', 'predicted', average, warn_for)\n",
      "C:\\Users\\Weinei\\Anaconda3\\lib\\site-packages\\sklearn\\metrics\\classification.py:1135: UndefinedMetricWarning: F-score is ill-defined and being set to 0.0 due to no predicted samples.\n",
      "  'precision', 'predicted', average, warn_for)\n",
      "C:\\Users\\Weinei\\Anaconda3\\lib\\site-packages\\sklearn\\metrics\\classification.py:1135: UndefinedMetricWarning: F-score is ill-defined and being set to 0.0 due to no predicted samples.\n",
      "  'precision', 'predicted', average, warn_for)\n",
      "C:\\Users\\Weinei\\Anaconda3\\lib\\site-packages\\sklearn\\metrics\\classification.py:1135: UndefinedMetricWarning: F-score is ill-defined and being set to 0.0 due to no predicted samples.\n",
      "  'precision', 'predicted', average, warn_for)\n",
      "C:\\Users\\Weinei\\Anaconda3\\lib\\site-packages\\sklearn\\metrics\\classification.py:1135: UndefinedMetricWarning: F-score is ill-defined and being set to 0.0 due to no predicted samples.\n",
      "  'precision', 'predicted', average, warn_for)\n",
      "C:\\Users\\Weinei\\Anaconda3\\lib\\site-packages\\sklearn\\metrics\\classification.py:1135: UndefinedMetricWarning: F-score is ill-defined and being set to 0.0 due to no predicted samples.\n",
      "  'precision', 'predicted', average, warn_for)\n",
      "C:\\Users\\Weinei\\Anaconda3\\lib\\site-packages\\sklearn\\metrics\\classification.py:1135: UndefinedMetricWarning: F-score is ill-defined and being set to 0.0 due to no predicted samples.\n",
      "  'precision', 'predicted', average, warn_for)\n"
     ]
    },
    {
     "data": {
      "image/png": "[encoded data removed]",
      "text/plain": [
       "<Figure size 720x720 with 4 Axes>"
      ]
     },
     "metadata": {
      "needs_background": "light"
     },
     "output_type": "display_data"
    }
   ],
   "source": [
    "model_in = LogisticRegression(solver = 'lbfgs', C = 1e5, multi_class = 'multinomial')\n",
    "X_in = data_normalized[feature_list[0:2]]\n",
    "y_in = data_normalized['HOF']\n",
    "train_sizes_list = np.linspace(.4, 1.0, 10)\n",
    "\n",
    "plt.figure(figsize=(10,10))\n",
    "\n",
    "i=0\n",
    "for Bootstraping_size in [10, 50, 100, 200]:\n",
    "    train_scores_mean, train_scores_std, test_scores_mean, test_scores_std = Learning_Curve_Bootstraping(X_in, \n",
    "                                                       y_in, model_in, Bootstraping_size, train_sizes_list)\n",
    "    plt.subplot(2,2,i+1)\n",
    "    \n",
    "    plt.grid()\n",
    "    plt.fill_between(train_sizes, train_scores_mean - train_scores_std,\n",
    "                     train_scores_mean + train_scores_std, alpha=0.1,\n",
    "                     color=\"r\")\n",
    "    plt.fill_between(train_sizes, test_scores_mean - test_scores_std,\n",
    "                     test_scores_mean + test_scores_std, alpha=0.1, color=\"g\")\n",
    "    plt.plot(train_sizes, train_scores_mean, 'o-', color=\"r\",\n",
    "             label=\"Training score\")\n",
    "    plt.plot(train_sizes, test_scores_mean, 'o-', color=\"g\",\n",
    "             label=\"Cross-validation score\")\n",
    "    plt.title('BS size = {0:d}'.format(Bootstraping_size))\n",
    "    plt.xlabel('Training Size')\n",
    "    plt.ylabel('F1 Score')\n",
    "    plt.ylim(0.8,1.0)\n",
    "    plt.legend(loc=\"best\")\n",
    "    i = i + 1\n",
    "    \n",
    "\n",
    "plt.show()"
   ]
  },
  {
   "cell_type": "code",
   "execution_count": 17,
   "metadata": {},
   "outputs": [],
   "source": [
    "# Saving the data for the last figure\n",
    "train_sizes_2 = train_sizes\n",
    "train_scores_mean_2 = train_scores_mean\n",
    "train_scores_std_2 = train_scores_std\n",
    "test_scores_mean_2 = test_scores_mean\n",
    "test_scores_std_2 = test_scores_std"
   ]
  },
  {
   "cell_type": "code",
   "execution_count": 25,
   "metadata": {},
   "outputs": [
    {
     "data": {
      "image/png": "[encoded data removed]",
      "text/plain": [
       "<Figure size 432x288 with 1 Axes>"
      ]
     },
     "metadata": {
      "needs_background": "light"
     },
     "output_type": "display_data"
    }
   ],
   "source": [
    "# saving the last figure\n",
    "plt.grid()\n",
    "plt.fill_between(train_sizes_2, train_scores_mean_2 - train_scores_std_2,\n",
    "                 train_scores_mean_2 + train_scores_std_2, alpha=0.1,\n",
    "                 color=\"r\")\n",
    "plt.fill_between(train_sizes_2, test_scores_mean_2 - test_scores_std_2,\n",
    "                 test_scores_mean_2 + test_scores_std_2, alpha=0.1, color=\"g\")\n",
    "plt.plot(train_sizes_2, train_scores_mean_2, 'o-', color=\"r\",\n",
    "         label=\"Training score\")\n",
    "plt.plot(train_sizes_2, test_scores_mean_2, 'o-', color=\"g\",\n",
    "         label=\"Cross-validation score\")\n",
    "plt.title(\"Learning Curve for 'AllStar' and 'VORP'\")\n",
    "plt.xlabel('Training Size')\n",
    "plt.ylabel('F1 Score')\n",
    "plt.ylim(0.8,1.0)\n",
    "plt.legend(loc=\"best\")\n",
    "plt.savefig('./figures/feature-selection-logistic-regression/learn-curve-two-rep-feature.png')"
   ]
  },
  {
   "cell_type": "markdown",
   "metadata": {},
   "source": [
    "We find an f1 score around 0.9. Comparing to the previous model, this one has lower bias but higher variance, indicating more over-fitting than the previous model."
   ]
  },
  {
   "cell_type": "code",
   "execution_count": 26,
   "metadata": {},
   "outputs": [
    {
     "data": {
      "image/png": "[encoded data removed]",
      "text/plain": [
       "<Figure size 1008x360 with 2 Axes>"
      ]
     },
     "metadata": {
      "needs_background": "light"
     },
     "output_type": "display_data"
    }
   ],
   "source": [
    "plt.figure(figsize=(14,5))\n",
    "\n",
    "plt.subplot(1,2,1)\n",
    "plt.grid()\n",
    "plt.fill_between(train_sizes_1, train_scores_mean_1 - train_scores_std_1,\n",
    "                 train_scores_mean_1 + train_scores_std_1, alpha=0.1,\n",
    "                 color=\"r\")\n",
    "plt.fill_between(train_sizes_1, test_scores_mean_1 - test_scores_std_1,\n",
    "                 test_scores_mean_1 + test_scores_std_1, alpha=0.1, color=\"g\")\n",
    "plt.plot(train_sizes_1, train_scores_mean_1, 'o-', color=\"r\",\n",
    "         label=\"Training score\")\n",
    "plt.plot(train_sizes_1, test_scores_mean_1, 'o-', color=\"g\",\n",
    "         label=\"Cross-validation score\")\n",
    "plt.title(\"Learning Curve for 'AllStar'\")\n",
    "plt.xlabel('Training Size')\n",
    "plt.ylabel('F1 Score')\n",
    "plt.ylim(0.8,1.0)\n",
    "plt.legend(loc=\"best\")\n",
    "\n",
    "plt.subplot(1,2,2)\n",
    "plt.grid()\n",
    "plt.fill_between(train_sizes_2, train_scores_mean_2 - train_scores_std_2,\n",
    "                 train_scores_mean_2 + train_scores_std_2, alpha=0.1,\n",
    "                 color=\"r\")\n",
    "plt.fill_between(train_sizes_2, test_scores_mean_2 - test_scores_std_2,\n",
    "                 test_scores_mean_2 + test_scores_std_2, alpha=0.1, color=\"g\")\n",
    "plt.plot(train_sizes_2, train_scores_mean_2, 'o-', color=\"r\",\n",
    "         label=\"Training score\")\n",
    "plt.plot(train_sizes_2, test_scores_mean_2, 'o-', color=\"g\",\n",
    "         label=\"Cross-validation score\")\n",
    "plt.title(\"Learning Curve for 'AllStar' and 'VORP'\")\n",
    "plt.xlabel('Training Size')\n",
    "plt.ylabel('F1 Score')\n",
    "plt.ylim(0.8,1.0)\n",
    "plt.legend(loc=\"best\")\n",
    "\n",
    "plt.savefig('./figures/feature-selection-logistic-regression/learn-curve-combine.png')"
   ]
  },
  {
   "cell_type": "markdown",
   "metadata": {},
   "source": [
    "### The Performance VS Number Of Representing Features"
   ]
  },
  {
   "cell_type": "markdown",
   "metadata": {},
   "source": [
    "We now find the optimal number of representing features by using cross-validation curve. "
   ]
  },
  {
   "cell_type": "code",
   "execution_count": 27,
   "metadata": {},
   "outputs": [],
   "source": [
    "def Cross_Validation_Func(X,y,model_in,cv_n):\n",
    "    # split the data into cv_n chunks\n",
    "    skf = StratifiedKFold(n_splits=cv_n,shuffle=False)\n",
    "    skf.get_n_splits(X, y)\n",
    "  \n",
    "    # For each iteration, test set is one chunk defined preciously and the rest are the training set\n",
    "     \n",
    "    train_f1_list = np.zeros(cv_n)\n",
    "    test_f1_list = np.zeros(cv_n)\n",
    "    \n",
    "    i=0\n",
    "    for train_list, test_list in skf.split(X, y):\n",
    "        # reset model\n",
    "        model = sklearn.base.clone(model_in, safe=True)\n",
    "        X_train = X.iloc[train_list]\n",
    "        y_train = y.iloc[train_list]\n",
    "        X_test = X.iloc[test_list]\n",
    "        y_test = y.iloc[test_list]\n",
    "        \n",
    "        model.fit(X_train, y_train)\n",
    "        y_pred_train = model.predict(X_train)\n",
    "        y_pred_test = model.predict(X_test)\n",
    "        train_f1_list[i] = F1_Score_Func(y_train,y_pred_train)\n",
    "        test_f1_list[i] = F1_Score_Func(y_test,y_pred_test)\n",
    "        i=i+1\n",
    "        \n",
    "    # Return is the averaged f1 score for all iteration\n",
    "    train_f1_ave = np.mean(train_f1_list)\n",
    "    train_f1_std = np.std(train_f1_list)\n",
    "    test_f1_ave = np.mean(test_f1_list)\n",
    "    test_f1_std = np.std(test_f1_list)\n",
    "    \n",
    "    f1 = [train_f1_ave,train_f1_std,test_f1_ave,test_f1_std]\n",
    "    \n",
    "    return f1"
   ]
  },
  {
   "cell_type": "code",
   "execution_count": 28,
   "metadata": {},
   "outputs": [],
   "source": [
    "def Validation_Curve_Bootstraping(X_in, y_in, model_in, cv_n,Bootstraping_size):\n",
    "\n",
    "    train_scores_mean_list = np.zeros(Bootstraping_size)\n",
    "    test_scores_mean_list = np.zeros(Bootstraping_size)\n",
    "    for i in range(0,Bootstraping_size):\n",
    "        model = sklearn.base.clone(model_in, safe=True)\n",
    "        index_list = list(np.random.choice(range(0,X_in.shape[0]),replace=True,size = X_in.shape[0]))\n",
    "        X = X_in.iloc[index_list]\n",
    "        y = y_in.iloc[index_list]\n",
    "        f1 = Cross_Validation_Func(X,y,model_in,cv_n)\n",
    "        train_scores_mean_list[i] = f1[0]\n",
    "        test_scores_mean_list[i] = f1[2]\n",
    "\n",
    "    train_scores_mean = np.mean(train_scores_mean_list)\n",
    "    train_scores_std = np.std(train_scores_mean_list)\n",
    "    test_scores_mean = np.mean(test_scores_mean_list)\n",
    "    test_scores_std = np.std(test_scores_mean_list)\n",
    "    f1  = [train_scores_mean, train_scores_std, test_scores_mean, test_scores_std]\n",
    "    \n",
    "    return f1"
   ]
  },
  {
   "cell_type": "code",
   "execution_count": 31,
   "metadata": {},
   "outputs": [],
   "source": [
    "def Validation_Curve_Plot(f1_train_ave,f1_train_std,f1_test_ave,f1_test_std,hyper_parameters,plot_type = 'plot',filename=None):\n",
    "    para_name, para_list = hyper_parameters\n",
    "    #plt.title(\"Validation Curve with {0} using Logistic Regression\".format(para_name))\n",
    "    plt.title(\"Validation Curve\")\n",
    "    plt.xlabel(para_name)\n",
    "    plt.ylabel(\"F1 Score\")\n",
    "    plt.ylim(0.0, 1.1)\n",
    "    line_width = 2\n",
    "    if plot_type == 'plot':\n",
    "        plt.plot(para_list, f1_train_ave, label=\"Training score\",\n",
    "                     color=\"darkorange\", lw=line_width)\n",
    "        plt.fill_between(para_list, f1_train_ave - f1_train_std,\n",
    "                         f1_train_ave + f1_train_std, alpha=0.2,\n",
    "                         color=\"darkorange\", lw=line_width)\n",
    "        plt.plot(para_list, f1_test_ave, label=\"Cross-validation score\",\n",
    "                     color=\"navy\", lw=line_width)\n",
    "        plt.fill_between(para_list, f1_test_ave - f1_test_std,\n",
    "                         f1_test_ave + f1_test_std, alpha=0.2,\n",
    "                         color=\"navy\", lw=line_width)\n",
    "    elif plot_type == 'semilogx':\n",
    "        plt.semilogx(para_list, f1_train_ave, label=\"Training score\",\n",
    "                     color=\"darkorange\", lw=line_width)\n",
    "        plt.fill_between(para_list, f1_train_ave - f1_train_std,\n",
    "                         f1_train_ave + f1_train_std, alpha=0.2,\n",
    "                         color=\"darkorange\", lw=line_width)\n",
    "        plt.semilogx(para_list, f1_test_ave, label=\"Cross-validation score\",\n",
    "                     color=\"navy\", lw=line_width)\n",
    "        plt.fill_between(para_list, f1_test_ave - f1_test_std,\n",
    "                         f1_test_ave + f1_test_std, alpha=0.2,\n",
    "                         color=\"navy\", lw=line_width)\n",
    "    plt.legend(loc=\"best\")\n",
    "    \n",
    "    if  filename!= None:\n",
    "        plt.savefig(filename)\n",
    "    \n",
    "    plt.show()\n",
    "\n",
    "    "
   ]
  },
  {
   "cell_type": "markdown",
   "metadata": {},
   "source": [
    "Due to limited amount of data, we again use bootstraping technique to evalyate the cross validation curve."
   ]
  },
  {
   "cell_type": "code",
   "execution_count": 32,
   "metadata": {},
   "outputs": [
    {
     "data": {
      "image/png": "[encoded data removed]",
      "text/plain": [
       "<Figure size 432x288 with 1 Axes>"
      ]
     },
     "metadata": {
      "needs_background": "light"
     },
     "output_type": "display_data"
    }
   ],
   "source": [
    "length = 10\n",
    "Bootstraping_size = 100\n",
    "f1_list = np.zeros([length,4])\n",
    "y = data_normalized['HOF']\n",
    "cv_n = 10\n",
    "model = LogisticRegression(solver = 'lbfgs', C = 1e5, multi_class = 'multinomial')\n",
    "for i in range(0,length):\n",
    "    X = data_normalized[feature_list[0:(i+1)]]\n",
    "    f1 = Validation_Curve_Bootstraping(X,y,model,cv_n,Bootstraping_size)\n",
    "    f1_list[i,:] = f1\n",
    "\n",
    "\n",
    "filename = './figures/feature-selection-logistic-regression/cross-validation-number-of-features.png';\n",
    "Validation_Curve_Plot(f1_list[:,0],f1_list[:,1], f1_list[:,2], f1_list[:,3], \n",
    "                      ('Number of Representing Features',np.arange(1,length+1)),'plot',filename)\n"
   ]
  },
  {
   "cell_type": "code",
   "execution_count": 27,
   "metadata": {},
   "outputs": [
    {
     "name": "stdout",
     "output_type": "stream",
     "text": [
      "[[0.87519732 0.85586089]\n",
      " [0.9000513  0.86339488]\n",
      " [0.90017527 0.86332489]\n",
      " [0.9209062  0.86519762]\n",
      " [0.91876425 0.87230733]\n",
      " [0.91824652 0.86235714]\n",
      " [0.92266775 0.86356775]\n",
      " [0.92247401 0.86880224]\n",
      " [0.92914245 0.85861739]\n",
      " [0.93458809 0.85354185]]\n"
     ]
    }
   ],
   "source": [
    "print(np.concatenate((f1_list[:,0:1],f1_list[:,2:3]),axis=1))"
   ]
  },
  {
   "cell_type": "code",
   "execution_count": 48,
   "metadata": {},
   "outputs": [
    {
     "data": {
      "text/plain": [
       "array([[0.87712418, 0.04385632, 0.85598687, 0.05953861],\n",
       "       [0.90045248, 0.04685317, 0.87070974, 0.06080234],\n",
       "       [0.90393979, 0.05026403, 0.8536127 , 0.0632223 ],\n",
       "       [0.92295993, 0.04380309, 0.86690491, 0.06026299],\n",
       "       [0.92010724, 0.04210709, 0.8678233 , 0.05578517],\n",
       "       [0.92562068, 0.04735192, 0.86817092, 0.06631906],\n",
       "       [0.91489688, 0.05016374, 0.85425743, 0.06574871],\n",
       "       [0.92480199, 0.04766951, 0.86831825, 0.06253407],\n",
       "       [0.92379803, 0.04493906, 0.86015317, 0.05734609],\n",
       "       [0.93632819, 0.04598811, 0.8581974 , 0.06609837]])"
      ]
     },
     "execution_count": 48,
     "metadata": {},
     "output_type": "execute_result"
    }
   ],
   "source": [
    "f1_list"
   ]
  },
  {
   "cell_type": "markdown",
   "metadata": {},
   "source": [
    "The results shows that the training score is increasing while the validation score is saturating. This indicates the optimal number of representing features is actually one, consistent with the results from learning curve. In the following, we explore if using regularization could improve the results for the case of one representing feature and two."
   ]
  },
  {
   "cell_type": "markdown",
   "metadata": {},
   "source": [
    "### Regularization"
   ]
  },
  {
   "cell_type": "markdown",
   "metadata": {},
   "source": [
    "#### One representing feature"
   ]
  },
  {
   "cell_type": "code",
   "execution_count": 28,
   "metadata": {},
   "outputs": [
    {
     "data": {
      "image/png": "[encoded data removed]",
      "text/plain": [
       "<Figure size 432x288 with 1 Axes>"
      ]
     },
     "metadata": {
      "needs_background": "light"
     },
     "output_type": "display_data"
    }
   ],
   "source": [
    "X = data_normalized[feature_list[0:1]]\n",
    "y = data_normalized['HOF']\n",
    "cv_n = 5\n",
    "Bootstraping_size = 100\n",
    "\n",
    "log_C_list = np.linspace(-3,5,20)\n",
    "C_list = 10**(log_C_list)\n",
    "f1_list = np.zeros([len(C_list),4])\n",
    "\n",
    "for i in range(0,len(C_list)):\n",
    "    model = LogisticRegression(solver = 'lbfgs', C = C_list[i], multi_class = 'multinomial')\n",
    "    f1 = Validation_Curve_Bootstraping(X,y,model,cv_n,Bootstraping_size)\n",
    "    f1_list[i,:] = f1\n",
    "\n",
    "\n",
    "Validation_Curve_Plot(f1_list[:,0],f1_list[:,1], f1_list[:,2], f1_list[:,3], \n",
    "                      ('Regularization Parameters',C_list),plot_type='semilogx')"
   ]
  },
  {
   "cell_type": "markdown",
   "metadata": {},
   "source": [
    "The optimal regularization parameter typically locates at the peak of cross-validation curve. Instead of a peak, the plot shows that the cross-validation score saturates when the regularization parameter is large than roughly 0.05, which indicates that regularization would not improve the results. "
   ]
  },
  {
   "cell_type": "markdown",
   "metadata": {},
   "source": [
    "#### Two representing features"
   ]
  },
  {
   "cell_type": "code",
   "execution_count": 29,
   "metadata": {},
   "outputs": [
    {
     "data": {
      "image/png": "[encoded data removed]",
      "text/plain": [
       "<Figure size 432x288 with 1 Axes>"
      ]
     },
     "metadata": {
      "needs_background": "light"
     },
     "output_type": "display_data"
    }
   ],
   "source": [
    "X = data_normalized[feature_list[0:2]]\n",
    "y = data_normalized['HOF']\n",
    "cv_n = 5\n",
    "Bootstraping_size = 100\n",
    "\n",
    "log_C_list = np.linspace(-3,5,100)\n",
    "C_list = 10**(log_C_list)\n",
    "f1_list = np.zeros([len(C_list),4])\n",
    "\n",
    "for i in range(0,len(C_list)):\n",
    "    model = LogisticRegression(solver = 'lbfgs', C = C_list[i], multi_class = 'multinomial')\n",
    "    f1 = Validation_Curve_Bootstraping(X,y,model,cv_n,Bootstraping_size)\n",
    "    f1_list[i,:] = f1\n",
    "\n",
    "\n",
    "Validation_Curve_Plot(f1_list[:,0],f1_list[:,1], f1_list[:,2], f1_list[:,3], \n",
    "                      ('Regularization Parameters',C_list),plot_type='semilogx')"
   ]
  },
  {
   "cell_type": "markdown",
   "metadata": {},
   "source": [
    "Again, as the cross-validation curve saturates, regularization wouldn't improve the results."
   ]
  },
  {
   "cell_type": "markdown",
   "metadata": {},
   "source": [
    "### Results"
   ]
  },
  {
   "cell_type": "markdown",
   "metadata": {},
   "source": [
    "We now present the results for one representing feature and two."
   ]
  },
  {
   "cell_type": "markdown",
   "metadata": {},
   "source": [
    "### One representing feature, AllStar"
   ]
  },
  {
   "cell_type": "markdown",
   "metadata": {},
   "source": [
    "We first plot the distribution of number of All stars with respect to whether the player is a Hall of Fame inductee. "
   ]
  },
  {
   "cell_type": "code",
   "execution_count": 34,
   "metadata": {},
   "outputs": [
    {
     "data": {
      "image/png": "[encoded data removed]",
      "text/plain": [
       "<Figure size 432x288 with 1 Axes>"
      ]
     },
     "metadata": {
      "needs_background": "light"
     },
     "output_type": "display_data"
    }
   ],
   "source": [
    "X_in = data_in['AllStar']\n",
    "y_in = data_normalized['HOF']\n",
    "\n",
    "\n",
    "# data to plot\n",
    "n_groups = max(X_in)- min(X_in)+1\n",
    "\n",
    "index = np.arange(n_groups)\n",
    "X_in_1 = X_in[y_in==1]\n",
    "X_in_1_hist = [sum(X_in_1==i) for i in list(index)]\n",
    "X_in_0 = X_in[y_in==0]\n",
    "X_in_0_hist = [sum(X_in_0==i) for i in list(index)]\n",
    " \n",
    "# create plot\n",
    "fig, ax = plt.subplots()\n",
    "bar_width = 0.35\n",
    "opacity = 0.8\n",
    " \n",
    "rects1 = plt.bar(index, X_in_1_hist, bar_width,\n",
    "alpha=opacity,\n",
    "color='b',\n",
    "label='HOF')\n",
    " \n",
    "rects2 = plt.bar(index + bar_width, X_in_0_hist, bar_width,\n",
    "alpha=opacity,\n",
    "color='r',\n",
    "label='non-HOF')\n",
    "\n",
    "plt.ylim(0,15)\n",
    "plt.xticks(index)\n",
    "plt.xlabel(\"'All Star'\")\n",
    "plt.ylabel('Number of Players')\n",
    "plt.title(\"'All Star' v.s. Number of Players\")\n",
    "plt.legend()\n",
    " \n",
    "plt.tight_layout()\n",
    "plt.savefig('./figures/feature-selection-logistic-regression/distribution-one-rep-feature.png')\n",
    "plt.show()"
   ]
  },
  {
   "cell_type": "markdown",
   "metadata": {},
   "source": [
    "This plot shows that players who have played in the all star games at least seven times are all Hall of Fame inductees. Players who have played six times have one half probability being inducted. And the probability goes down quickly for players who play less then five times. We now explore people who are Hall of Fame inductees but have only played at most six times. "
   ]
  },
  {
   "cell_type": "code",
   "execution_count": 31,
   "metadata": {
    "scrolled": true
   },
   "outputs": [
    {
     "data": {
      "text/html": [
       "<div>\n",
       "<style scoped>\n",
       "    .dataframe tbody tr th:only-of-type {\n",
       "        vertical-align: middle;\n",
       "    }\n",
       "\n",
       "    .dataframe tbody tr th {\n",
       "        vertical-align: top;\n",
       "    }\n",
       "\n",
       "    .dataframe thead th {\n",
       "        text-align: right;\n",
       "    }\n",
       "</style>\n",
       "<table border=\"1\" class=\"dataframe\">\n",
       "  <thead>\n",
       "    <tr style=\"text-align: right;\">\n",
       "      <th></th>\n",
       "      <th>Player</th>\n",
       "      <th>AllStar</th>\n",
       "    </tr>\n",
       "  </thead>\n",
       "  <tbody>\n",
       "    <tr>\n",
       "      <th>169</th>\n",
       "      <td>Arvydas Sabonis</td>\n",
       "      <td>0.0</td>\n",
       "    </tr>\n",
       "    <tr>\n",
       "      <th>685</th>\n",
       "      <td>Dennis Rodman</td>\n",
       "      <td>2.0</td>\n",
       "    </tr>\n",
       "    <tr>\n",
       "      <th>2104</th>\n",
       "      <td>Ralph Sampson</td>\n",
       "      <td>4.0</td>\n",
       "    </tr>\n",
       "    <tr>\n",
       "      <th>446</th>\n",
       "      <td>Chris Mullin</td>\n",
       "      <td>5.0</td>\n",
       "    </tr>\n",
       "    <tr>\n",
       "      <th>2152</th>\n",
       "      <td>Reggie Miller</td>\n",
       "      <td>5.0</td>\n",
       "    </tr>\n",
       "    <tr>\n",
       "      <th>1309</th>\n",
       "      <td>Joe Dumars</td>\n",
       "      <td>6.0</td>\n",
       "    </tr>\n",
       "    <tr>\n",
       "      <th>1919</th>\n",
       "      <td>Mitch Richmond</td>\n",
       "      <td>6.0</td>\n",
       "    </tr>\n",
       "  </tbody>\n",
       "</table>\n",
       "</div>"
      ],
      "text/plain": [
       "               Player  AllStar\n",
       "169   Arvydas Sabonis      0.0\n",
       "685     Dennis Rodman      2.0\n",
       "2104    Ralph Sampson      4.0\n",
       "446      Chris Mullin      5.0\n",
       "2152    Reggie Miller      5.0\n",
       "1309       Joe Dumars      6.0\n",
       "1919   Mitch Richmond      6.0"
      ]
     },
     "execution_count": 31,
     "metadata": {},
     "output_type": "execute_result"
    }
   ],
   "source": [
    "data_in.query('(AllStar<=6) & (HOF==1)')[['Player','AllStar']].sort_values('AllStar')"
   ]
  },
  {
   "cell_type": "markdown",
   "metadata": {},
   "source": [
    "The first player, Arvydas Sabonis, is inducted in recognition of his achievement in international competition but has no outstanding NBA career. This person should be an outlier. We are going to remove him from now on. The rest of them all have outstanding NBA careers."
   ]
  },
  {
   "cell_type": "markdown",
   "metadata": {},
   "source": [
    "We also take a look at players who have played six all star games but have not been inducted into hall of fame."
   ]
  },
  {
   "cell_type": "code",
   "execution_count": 32,
   "metadata": {},
   "outputs": [
    {
     "data": {
      "text/html": [
       "<div>\n",
       "<style scoped>\n",
       "    .dataframe tbody tr th:only-of-type {\n",
       "        vertical-align: middle;\n",
       "    }\n",
       "\n",
       "    .dataframe tbody tr th {\n",
       "        vertical-align: top;\n",
       "    }\n",
       "\n",
       "    .dataframe thead th {\n",
       "        text-align: right;\n",
       "    }\n",
       "</style>\n",
       "<table border=\"1\" class=\"dataframe\">\n",
       "  <thead>\n",
       "    <tr style=\"text-align: right;\">\n",
       "      <th></th>\n",
       "      <th>Player</th>\n",
       "      <th>AllStar</th>\n",
       "    </tr>\n",
       "  </thead>\n",
       "  <tbody>\n",
       "    <tr>\n",
       "      <th>1248</th>\n",
       "      <td>Jermaine O'Neal</td>\n",
       "      <td>6.0</td>\n",
       "    </tr>\n",
       "    <tr>\n",
       "      <th>2376</th>\n",
       "      <td>Shawn Kemp</td>\n",
       "      <td>6.0</td>\n",
       "    </tr>\n",
       "  </tbody>\n",
       "</table>\n",
       "</div>"
      ],
      "text/plain": [
       "               Player  AllStar\n",
       "1248  Jermaine O'Neal      6.0\n",
       "2376       Shawn Kemp      6.0"
      ]
     },
     "execution_count": 32,
     "metadata": {},
     "output_type": "execute_result"
    }
   ],
   "source": [
    "data_in.query('(AllStar >=6) & (HOF==0)')[['Player','AllStar']].sort_values('AllStar')"
   ]
  },
  {
   "cell_type": "markdown",
   "metadata": {},
   "source": [
    "We notice there are many discussions about why Shawn Kemp has not been inducted as a Hall of famer. Also, Jermaine O'Neal just retired in 2014 and we believe he will be inducted soon."
   ]
  },
  {
   "cell_type": "markdown",
   "metadata": {},
   "source": [
    "We now apply logistic regression and show the probability of being inducted versus the number of all star games played."
   ]
  },
  {
   "cell_type": "code",
   "execution_count": 58,
   "metadata": {},
   "outputs": [
    {
     "data": {
      "text/plain": [
       "LogisticRegression(C=100000.0, class_weight=None, dual=False,\n",
       "          fit_intercept=True, intercept_scaling=1, max_iter=100,\n",
       "          multi_class='multinomial', n_jobs=1, penalty='l2',\n",
       "          random_state=None, solver='lbfgs', tol=0.0001, verbose=0,\n",
       "          warm_start=False)"
      ]
     },
     "execution_count": 58,
     "metadata": {},
     "output_type": "execute_result"
    }
   ],
   "source": [
    "X_in = X[['AllStar']].drop(axis=0,index=169)\n",
    "y_in = y.drop(axis=0,index=169)\n",
    "model = LogisticRegression(solver = 'lbfgs', C = 1e5, multi_class = 'multinomial')\n",
    "model.fit(X_in, y_in)"
   ]
  },
  {
   "cell_type": "code",
   "execution_count": 59,
   "metadata": {},
   "outputs": [
    {
     "name": "stdout",
     "output_type": "stream",
     "text": [
      "[0.9259259259259259, 0.8620689655172413, 0.8928571428571429]\n"
     ]
    }
   ],
   "source": [
    "y_pred = model.predict(X_in)\n",
    "print([Precision_Func(y_in,y_pred),Recall_Func(y_in,y_pred),F1_Score_Func(y_in,y_pred)])"
   ]
  },
  {
   "cell_type": "code",
   "execution_count": 60,
   "metadata": {},
   "outputs": [
    {
     "data": {
      "image/png": "[encoded data removed]",
      "text/plain": [
       "<Figure size 432x288 with 1 Axes>"
      ]
     },
     "metadata": {
      "needs_background": "light"
     },
     "output_type": "display_data"
    }
   ],
   "source": [
    "X_Full = pd.DataFrame(data = {'AllStar': np.linspace(0,16,1000)})\n",
    "\n",
    "prob_Full = model.predict_proba((X_Full- normalization_offset['AllStar'])/normalization_scaling['AllStar'])[:,1]\n",
    "\n",
    "boundary_one_rep_feature = X_Full[prob_Full>0.5].min().values\n",
    "plt.plot(X_Full,prob_Full)\n",
    "plt.plot([-1,16],[0.5,0.5],color = 'tab:gray', linestyle='--',linewidth = 1.0)\n",
    "plt.plot(boundary_one_rep_feature*[1,1],[-0.1,1.1],color = 'tab:gray', linestyle='--',linewidth = 1.0)\n",
    "plt.xticks(range(0,16))\n",
    "plt.xlim(-0.5,15.5)\n",
    "plt.ylim(-0.05,1.05)\n",
    "_ = plt.xlabel('# of AllStar')\n",
    "_ = plt.ylabel('Prob. HOF')\n",
    "_ = plt.title('Predicted Probability of Being Inducted in HOF')\n",
    "\n",
    "plt.savefig('./figures/feature-selection-logistic-regression/probability-one-rep-feature.png')\n",
    "plt.show()"
   ]
  },
  {
   "cell_type": "code",
   "execution_count": 36,
   "metadata": {},
   "outputs": [
    {
     "name": "stdout",
     "output_type": "stream",
     "text": [
      "    AllStar\n",
      "0  0.977502\n"
     ]
    }
   ],
   "source": [
    "df_coef = pd.DataFrame(model.coef_,columns=['AllStar'])\n",
    "print(df_coef)"
   ]
  },
  {
   "cell_type": "markdown",
   "metadata": {},
   "source": [
    "The results shows that the players who have played more than five all star games have probability higher than 50% to be inducted in Hall of Fame. We now see how this applies to the players who finish their careers after 2015 or are still playing."
   ]
  },
  {
   "cell_type": "code",
   "execution_count": 37,
   "metadata": {},
   "outputs": [],
   "source": [
    "X_future_in = np.c_[X_future['AllStar']]\n",
    "\n",
    "data_future_pred = pd.DataFrame()\n",
    "data_future_pred['Player'] = data_future['Player']\n",
    "data_future_pred['AllStar'] = data_future['AllStar']\n",
    "data_future_pred['HOF'] = model.predict(X_future_in)\n",
    "data_future_pred['HOF_Prob'] = model.predict_proba(X_future_in)[:,1]"
   ]
  },
  {
   "cell_type": "markdown",
   "metadata": {},
   "source": [
    "##### Players who will be inducted:"
   ]
  },
  {
   "cell_type": "code",
   "execution_count": 38,
   "metadata": {},
   "outputs": [
    {
     "data": {
      "text/html": [
       "<div>\n",
       "<style scoped>\n",
       "    .dataframe tbody tr th:only-of-type {\n",
       "        vertical-align: middle;\n",
       "    }\n",
       "\n",
       "    .dataframe tbody tr th {\n",
       "        vertical-align: top;\n",
       "    }\n",
       "\n",
       "    .dataframe thead th {\n",
       "        text-align: right;\n",
       "    }\n",
       "</style>\n",
       "<table border=\"1\" class=\"dataframe\">\n",
       "  <thead>\n",
       "    <tr style=\"text-align: right;\">\n",
       "      <th></th>\n",
       "      <th>Player</th>\n",
       "      <th>HOF_Prob</th>\n",
       "    </tr>\n",
       "  </thead>\n",
       "  <tbody>\n",
       "    <tr>\n",
       "      <th>1557</th>\n",
       "      <td>Kobe Bryant</td>\n",
       "      <td>0.999945</td>\n",
       "    </tr>\n",
       "    <tr>\n",
       "      <th>1520</th>\n",
       "      <td>Kevin Garnett</td>\n",
       "      <td>0.999426</td>\n",
       "    </tr>\n",
       "    <tr>\n",
       "      <th>2517</th>\n",
       "      <td>Tim Duncan</td>\n",
       "      <td>0.999426</td>\n",
       "    </tr>\n",
       "    <tr>\n",
       "      <th>1628</th>\n",
       "      <td>LeBron James</td>\n",
       "      <td>0.999426</td>\n",
       "    </tr>\n",
       "    <tr>\n",
       "      <th>745</th>\n",
       "      <td>Dirk Nowitzki</td>\n",
       "      <td>0.998747</td>\n",
       "    </tr>\n",
       "    <tr>\n",
       "      <th>807</th>\n",
       "      <td>Dwyane Wade</td>\n",
       "      <td>0.997264</td>\n",
       "    </tr>\n",
       "    <tr>\n",
       "      <th>419</th>\n",
       "      <td>Chris Bosh</td>\n",
       "      <td>0.987053</td>\n",
       "    </tr>\n",
       "    <tr>\n",
       "      <th>366</th>\n",
       "      <td>Carmelo Anthony</td>\n",
       "      <td>0.972120</td>\n",
       "    </tr>\n",
       "    <tr>\n",
       "      <th>2044</th>\n",
       "      <td>Paul Pierce</td>\n",
       "      <td>0.972120</td>\n",
       "    </tr>\n",
       "    <tr>\n",
       "      <th>1517</th>\n",
       "      <td>Kevin Durant</td>\n",
       "      <td>0.972120</td>\n",
       "    </tr>\n",
       "    <tr>\n",
       "      <th>449</th>\n",
       "      <td>Chris Paul</td>\n",
       "      <td>0.940993</td>\n",
       "    </tr>\n",
       "    <tr>\n",
       "      <th>2284</th>\n",
       "      <td>Russell Westbrook</td>\n",
       "      <td>0.879427</td>\n",
       "    </tr>\n",
       "    <tr>\n",
       "      <th>2655</th>\n",
       "      <td>Vince Carter</td>\n",
       "      <td>0.879427</td>\n",
       "    </tr>\n",
       "    <tr>\n",
       "      <th>804</th>\n",
       "      <td>Dwight Howard</td>\n",
       "      <td>0.879427</td>\n",
       "    </tr>\n",
       "    <tr>\n",
       "      <th>1583</th>\n",
       "      <td>LaMarcus Aldridge</td>\n",
       "      <td>0.769367</td>\n",
       "    </tr>\n",
       "    <tr>\n",
       "      <th>1313</th>\n",
       "      <td>Joe Johnson</td>\n",
       "      <td>0.769367</td>\n",
       "    </tr>\n",
       "    <tr>\n",
       "      <th>1141</th>\n",
       "      <td>James Harden</td>\n",
       "      <td>0.769367</td>\n",
       "    </tr>\n",
       "    <tr>\n",
       "      <th>128</th>\n",
       "      <td>Anthony Davis</td>\n",
       "      <td>0.604073</td>\n",
       "    </tr>\n",
       "    <tr>\n",
       "      <th>1580</th>\n",
       "      <td>Kyrie Irving</td>\n",
       "      <td>0.604073</td>\n",
       "    </tr>\n",
       "    <tr>\n",
       "      <th>2035</th>\n",
       "      <td>Pau Gasol</td>\n",
       "      <td>0.604073</td>\n",
       "    </tr>\n",
       "    <tr>\n",
       "      <th>2037</th>\n",
       "      <td>Paul George</td>\n",
       "      <td>0.604073</td>\n",
       "    </tr>\n",
       "    <tr>\n",
       "      <th>2423</th>\n",
       "      <td>Stephen Curry</td>\n",
       "      <td>0.604073</td>\n",
       "    </tr>\n",
       "    <tr>\n",
       "      <th>229</th>\n",
       "      <td>Blake Griffin</td>\n",
       "      <td>0.604073</td>\n",
       "    </tr>\n",
       "    <tr>\n",
       "      <th>2578</th>\n",
       "      <td>Tony Parker</td>\n",
       "      <td>0.604073</td>\n",
       "    </tr>\n",
       "    <tr>\n",
       "      <th>82</th>\n",
       "      <td>Amar'e Stoudemire</td>\n",
       "      <td>0.604073</td>\n",
       "    </tr>\n",
       "  </tbody>\n",
       "</table>\n",
       "</div>"
      ],
      "text/plain": [
       "                 Player  HOF_Prob\n",
       "1557        Kobe Bryant  0.999945\n",
       "1520      Kevin Garnett  0.999426\n",
       "2517         Tim Duncan  0.999426\n",
       "1628       LeBron James  0.999426\n",
       "745       Dirk Nowitzki  0.998747\n",
       "807         Dwyane Wade  0.997264\n",
       "419          Chris Bosh  0.987053\n",
       "366     Carmelo Anthony  0.972120\n",
       "2044        Paul Pierce  0.972120\n",
       "1517       Kevin Durant  0.972120\n",
       "449          Chris Paul  0.940993\n",
       "2284  Russell Westbrook  0.879427\n",
       "2655       Vince Carter  0.879427\n",
       "804       Dwight Howard  0.879427\n",
       "1583  LaMarcus Aldridge  0.769367\n",
       "1313        Joe Johnson  0.769367\n",
       "1141       James Harden  0.769367\n",
       "128       Anthony Davis  0.604073\n",
       "1580       Kyrie Irving  0.604073\n",
       "2035          Pau Gasol  0.604073\n",
       "2037        Paul George  0.604073\n",
       "2423      Stephen Curry  0.604073\n",
       "229       Blake Griffin  0.604073\n",
       "2578        Tony Parker  0.604073\n",
       "82    Amar'e Stoudemire  0.604073"
      ]
     },
     "execution_count": 38,
     "metadata": {},
     "output_type": "execute_result"
    }
   ],
   "source": [
    "data_future_pred[(data_future_pred['HOF']==1)][['Player','HOF_Prob']].sort_values('HOF_Prob',ascending = False)"
   ]
  },
  {
   "cell_type": "markdown",
   "metadata": {},
   "source": [
    "##### Players who should be inducted but are predicted with less than 50% chances"
   ]
  },
  {
   "cell_type": "markdown",
   "metadata": {},
   "source": [
    "We use our own impression about the current players and find out that there are some players who should be inducted but are predicted with less than 50% chances based on our model."
   ]
  },
  {
   "cell_type": "markdown",
   "metadata": {},
   "source": [
    "We believe some players who have attended five all star games before 2019 are likely to attend more and thus have more than 50% chance to be inducted in Hall of Fame"
   ]
  },
  {
   "cell_type": "code",
   "execution_count": 39,
   "metadata": {},
   "outputs": [
    {
     "data": {
      "text/html": [
       "<div>\n",
       "<style scoped>\n",
       "    .dataframe tbody tr th:only-of-type {\n",
       "        vertical-align: middle;\n",
       "    }\n",
       "\n",
       "    .dataframe tbody tr th {\n",
       "        vertical-align: top;\n",
       "    }\n",
       "\n",
       "    .dataframe thead th {\n",
       "        text-align: right;\n",
       "    }\n",
       "</style>\n",
       "<table border=\"1\" class=\"dataframe\">\n",
       "  <thead>\n",
       "    <tr style=\"text-align: right;\">\n",
       "      <th></th>\n",
       "      <th>Player</th>\n",
       "      <th>HOF_Prob</th>\n",
       "    </tr>\n",
       "  </thead>\n",
       "  <tbody>\n",
       "    <tr>\n",
       "      <th>29</th>\n",
       "      <td>Al Horford</td>\n",
       "      <td>0.411007</td>\n",
       "    </tr>\n",
       "    <tr>\n",
       "      <th>1364</th>\n",
       "      <td>John Wall</td>\n",
       "      <td>0.411007</td>\n",
       "    </tr>\n",
       "    <tr>\n",
       "      <th>1527</th>\n",
       "      <td>Kevin Love</td>\n",
       "      <td>0.411007</td>\n",
       "    </tr>\n",
       "    <tr>\n",
       "      <th>1556</th>\n",
       "      <td>Klay Thompson</td>\n",
       "      <td>0.411007</td>\n",
       "    </tr>\n",
       "    <tr>\n",
       "      <th>1574</th>\n",
       "      <td>Kyle Lowry</td>\n",
       "      <td>0.411007</td>\n",
       "    </tr>\n",
       "  </tbody>\n",
       "</table>\n",
       "</div>"
      ],
      "text/plain": [
       "             Player  HOF_Prob\n",
       "29       Al Horford  0.411007\n",
       "1364      John Wall  0.411007\n",
       "1527     Kevin Love  0.411007\n",
       "1556  Klay Thompson  0.411007\n",
       "1574     Kyle Lowry  0.411007"
      ]
     },
     "execution_count": 39,
     "metadata": {},
     "output_type": "execute_result"
    }
   ],
   "source": [
    "data_future_pred[(data_future_pred['AllStar']==5)][['Player','HOF_Prob']].sort_values('HOF_Prob',ascending = False)"
   ]
  },
  {
   "cell_type": "markdown",
   "metadata": {},
   "source": [
    "Based on our impresssion, we also believe Klay Thompson and Rajon Rondo are likely to be Hall of Famers"
   ]
  },
  {
   "cell_type": "code",
   "execution_count": 40,
   "metadata": {
    "scrolled": false
   },
   "outputs": [
    {
     "data": {
      "text/html": [
       "<div>\n",
       "<style scoped>\n",
       "    .dataframe tbody tr th:only-of-type {\n",
       "        vertical-align: middle;\n",
       "    }\n",
       "\n",
       "    .dataframe tbody tr th {\n",
       "        vertical-align: top;\n",
       "    }\n",
       "\n",
       "    .dataframe thead th {\n",
       "        text-align: right;\n",
       "    }\n",
       "</style>\n",
       "<table border=\"1\" class=\"dataframe\">\n",
       "  <thead>\n",
       "    <tr style=\"text-align: right;\">\n",
       "      <th></th>\n",
       "      <th>Player</th>\n",
       "      <th>HOF_Prob</th>\n",
       "      <th>AllStar</th>\n",
       "    </tr>\n",
       "  </thead>\n",
       "  <tbody>\n",
       "    <tr>\n",
       "      <th>1556</th>\n",
       "      <td>Klay Thompson</td>\n",
       "      <td>0.411007</td>\n",
       "      <td>5.0</td>\n",
       "    </tr>\n",
       "    <tr>\n",
       "      <th>2100</th>\n",
       "      <td>Rajon Rondo</td>\n",
       "      <td>0.241939</td>\n",
       "      <td>4.0</td>\n",
       "    </tr>\n",
       "  </tbody>\n",
       "</table>\n",
       "</div>"
      ],
      "text/plain": [
       "             Player  HOF_Prob  AllStar\n",
       "1556  Klay Thompson  0.411007      5.0\n",
       "2100    Rajon Rondo  0.241939      4.0"
      ]
     },
     "execution_count": 40,
     "metadata": {},
     "output_type": "execute_result"
    }
   ],
   "source": [
    "data_future_pred.query('(Player == \"Klay Thompson\") | (Player == \"Rajon Rondo\")')[['Player','HOF_Prob','AllStar']]"
   ]
  },
  {
   "cell_type": "markdown",
   "metadata": {},
   "source": [
    "### Using statsmodels"
   ]
  },
  {
   "cell_type": "markdown",
   "metadata": {},
   "source": [
    "We can also perform logistic regression by using python package statsmodels. Please note that the fitted coefficient is twice as large as the coefficient by using sklearn because different convention in the model."
   ]
  },
  {
   "cell_type": "code",
   "execution_count": 75,
   "metadata": {},
   "outputs": [
    {
     "name": "stdout",
     "output_type": "stream",
     "text": [
      "Optimization terminated successfully.\n",
      "         Current function value: 0.008849\n",
      "         Iterations 12\n"
     ]
    },
    {
     "data": {
      "text/html": [
       "<table class=\"simpletable\">\n",
       "<caption>Logit Regression Results</caption>\n",
       "<tr>\n",
       "  <th>Dep. Variable:</th>        <td>HOF</td>       <th>  No. Observations:  </th>  <td>  1910</td>  \n",
       "</tr>\n",
       "<tr>\n",
       "  <th>Model:</th>               <td>Logit</td>      <th>  Df Residuals:      </th>  <td>  1908</td>  \n",
       "</tr>\n",
       "<tr>\n",
       "  <th>Method:</th>               <td>MLE</td>       <th>  Df Model:          </th>  <td>     1</td>  \n",
       "</tr>\n",
       "<tr>\n",
       "  <th>Date:</th>          <td>Mon, 11 Mar 2019</td> <th>  Pseudo R-squ.:     </th>  <td>0.8875</td>  \n",
       "</tr>\n",
       "<tr>\n",
       "  <th>Time:</th>              <td>12:07:13</td>     <th>  Log-Likelihood:    </th> <td> -16.901</td> \n",
       "</tr>\n",
       "<tr>\n",
       "  <th>converged:</th>           <td>True</td>       <th>  LL-Null:           </th> <td> -150.22</td> \n",
       "</tr>\n",
       "<tr>\n",
       "  <th> </th>                      <td> </td>        <th>  LLR p-value:       </th> <td>6.146e-60</td>\n",
       "</tr>\n",
       "</table>\n",
       "<table class=\"simpletable\">\n",
       "<tr>\n",
       "      <td></td>         <th>coef</th>     <th>std err</th>      <th>z</th>      <th>P>|z|</th>  <th>[0.025</th>    <th>0.975]</th>  \n",
       "</tr>\n",
       "<tr>\n",
       "  <th>AllStar</th>   <td>    1.9550</td> <td>    0.326</td> <td>    5.990</td> <td> 0.000</td> <td>    1.315</td> <td>    2.595</td>\n",
       "</tr>\n",
       "<tr>\n",
       "  <th>Intercept</th> <td>   -8.1640</td> <td>    1.230</td> <td>   -6.640</td> <td> 0.000</td> <td>  -10.574</td> <td>   -5.754</td>\n",
       "</tr>\n",
       "</table>"
      ],
      "text/plain": [
       "<class 'statsmodels.iolib.summary.Summary'>\n",
       "\"\"\"\n",
       "                           Logit Regression Results                           \n",
       "==============================================================================\n",
       "Dep. Variable:                    HOF   No. Observations:                 1910\n",
       "Model:                          Logit   Df Residuals:                     1908\n",
       "Method:                           MLE   Df Model:                            1\n",
       "Date:                Mon, 11 Mar 2019   Pseudo R-squ.:                  0.8875\n",
       "Time:                        12:07:13   Log-Likelihood:                -16.901\n",
       "converged:                       True   LL-Null:                       -150.22\n",
       "                                        LLR p-value:                 6.146e-60\n",
       "==============================================================================\n",
       "                 coef    std err          z      P>|z|      [0.025      0.975]\n",
       "------------------------------------------------------------------------------\n",
       "AllStar        1.9550      0.326      5.990      0.000       1.315       2.595\n",
       "Intercept     -8.1640      1.230     -6.640      0.000     -10.574      -5.754\n",
       "==============================================================================\n",
       "\"\"\""
      ]
     },
     "execution_count": 75,
     "metadata": {},
     "output_type": "execute_result"
    }
   ],
   "source": [
    "import statsmodels.api as sm\n",
    "\n",
    "X_sm_in = X_in.copy()\n",
    "X_sm_in['Intercept'] = 1\n",
    "sm_logit = sm.Logit(y_in,X_sm_in)\n",
    "sm_logit.fit().summary()"
   ]
  },
  {
   "cell_type": "markdown",
   "metadata": {},
   "source": [
    "Based on above results, the coefficient for feature AllStar has statistical significance."
   ]
  },
  {
   "cell_type": "markdown",
   "metadata": {},
   "source": [
    "### Two Representing features, AllStar and VORP"
   ]
  },
  {
   "cell_type": "markdown",
   "metadata": {},
   "source": [
    "We first plot the dependence of whether the player is a Hall of Fame inductee on the number of all star games he plays and his value over replacement player (VORP). "
   ]
  },
  {
   "cell_type": "code",
   "execution_count": 44,
   "metadata": {},
   "outputs": [
    {
     "data": {
      "image/png": "[encoded data removed]",
      "text/plain": [
       "<Figure size 432x288 with 1 Axes>"
      ]
     },
     "metadata": {
      "needs_background": "light"
     },
     "output_type": "display_data"
    }
   ],
   "source": [
    "X_in = data_in[['AllStar','VORP']].drop(axis=0,index=169)\n",
    "y_in = data_normalized['HOF'].drop(axis=0,index=169)\n",
    "\n",
    "\n",
    "# data to plot\n",
    "X_in_1 = X_in[y_in==1]\n",
    "X_in_0 = X_in[y_in==0]\n",
    " \n",
    "# create plot\n",
    "fig, ax = plt.subplots()\n",
    "index = np.arange(n_groups)\n",
    "opacity = 0.8\n",
    "\n",
    "plt.scatter(X_in_0['AllStar'], X_in_0['VORP'],\n",
    "            alpha=opacity,\n",
    "            color='r',\n",
    "            marker = 'o',label='non-HOF')\n",
    "plt.scatter(X_in_1['AllStar'], X_in_1['VORP'],\n",
    "            alpha=opacity,\n",
    "            color='b',\n",
    "            marker = 'o',label='HOF')\n",
    "plt.plot([4,5,6,7],[120,60,0,-60],color = 'tab:gray', linestyle='--',linewidth = 2.0)\n",
    "plt.xlim(-0.5,15.5)\n",
    "plt.ylim(-20,120)\n",
    "\n",
    "plt.xticks(index)\n",
    "plt.xlabel(\"'AllStar'\")\n",
    "plt.ylabel(\"'VORP'\")\n",
    "plt.title(\"'AllStar' and 'VORP' v.s. HOF\")\n",
    "plt.legend()\n",
    " \n",
    "plt.tight_layout()\n",
    "plt.savefig('./figures/feature-selection-logistic-regression/distribution-two-rep-feature.png')\n",
    "plt.show()"
   ]
  },
  {
   "cell_type": "markdown",
   "metadata": {},
   "source": [
    "We now apply logistic regression and show the probability of being inducted versus the number of all star game played."
   ]
  },
  {
   "cell_type": "code",
   "execution_count": 41,
   "metadata": {},
   "outputs": [
    {
     "data": {
      "text/plain": [
       "LogisticRegression(C=100000.0, class_weight=None, dual=False,\n",
       "          fit_intercept=True, intercept_scaling=1, max_iter=100,\n",
       "          multi_class='multinomial', n_jobs=1, penalty='l2',\n",
       "          random_state=None, solver='lbfgs', tol=0.0001, verbose=0,\n",
       "          warm_start=False)"
      ]
     },
     "execution_count": 41,
     "metadata": {},
     "output_type": "execute_result"
    }
   ],
   "source": [
    "X_in = X[feature_list[0:2]].drop(axis=0,index=169)\n",
    "y_in = y.drop(axis=0,index=169)\n",
    "model = LogisticRegression(solver = 'lbfgs', C = 1e5, multi_class = 'multinomial')\n",
    "model.fit(X_in, y_in)"
   ]
  },
  {
   "cell_type": "code",
   "execution_count": 42,
   "metadata": {},
   "outputs": [
    {
     "name": "stdout",
     "output_type": "stream",
     "text": [
      "[0.9285714285714286, 0.896551724137931, 0.912280701754386]\n"
     ]
    }
   ],
   "source": [
    "y_pred = model.predict(X_in)\n",
    "print([Precision_Func(y_in,y_pred),Recall_Func(y_in,y_pred),F1_Score_Func(y_in,y_pred)])"
   ]
  },
  {
   "cell_type": "code",
   "execution_count": 43,
   "metadata": {},
   "outputs": [
    {
     "data": {
      "image/png": "[encoded data removed]",
      "text/plain": [
       "<Figure size 432x288 with 1 Axes>"
      ]
     },
     "metadata": {
      "needs_background": "light"
     },
     "output_type": "display_data"
    }
   ],
   "source": [
    "h = 0.1\n",
    "x_min = data_in[['AllStar']].min().values-1; x_max = data_in[['AllStar']].max().values+1;\n",
    "y_min = data_in[['VORP']].min().values-20; y_max = data_in[['VORP']].max().values+20;\n",
    "xx, yy = np.meshgrid(np.arange(x_min, x_max, h),np.arange(y_min, y_max, h))\n",
    "Z = model.predict(np.c_[(xx.ravel()-normalization_offset[['AllStar']].values)/normalization_scaling[['AllStar']].values, \n",
    "                        (yy.ravel()-normalization_offset[['VORP']].values)/normalization_scaling[['VORP']].values])\n",
    "\n",
    "Z = Z.reshape(xx.shape)\n",
    "plt.pcolormesh(xx, yy, Z, cmap=plt.cm.Paired)\n",
    "plt.scatter(X_in_0['AllStar'], X_in_0['VORP'],\n",
    "            alpha=opacity,\n",
    "            color='r',\n",
    "            marker = 'o',label='non-HOF')\n",
    "plt.scatter(X_in_1['AllStar'], X_in_1['VORP'],\n",
    "            alpha=opacity,\n",
    "            color='b',\n",
    "            marker = 'o',label='HOF')\n",
    "plt.xlim(-0.5,15.5)\n",
    "plt.ylim(-20,120)\n",
    "\n",
    "plt.xticks(index)\n",
    "plt.xlabel(\"'AllStar'\")\n",
    "plt.ylabel(\"'VORP'\")\n",
    "plt.title(\"'AllStar' and 'VORP' v.s. HOF\")\n",
    "plt.legend()\n",
    "plt.savefig('./figures/feature-selection-logistic-regression/classification-two-rep-feature.png')\n",
    "plt.show()"
   ]
  },
  {
   "cell_type": "code",
   "execution_count": 80,
   "metadata": {},
   "outputs": [],
   "source": [
    "X_future_in = X_future[['AllStar','VORP']]\n",
    "\n",
    "data_future_pred = pd.DataFrame()\n",
    "data_future_pred['Player'] = data_future['Player']\n",
    "data_future_pred['AllStar'] = data_future['AllStar']\n",
    "data_future_pred['VORP'] = data_future['VORP']\n",
    "data_future_pred['HOF'] = model.predict(X_future_in)\n",
    "data_future_pred['HOF_Prob'] = model.predict_proba(X_future_in)[:,1]"
   ]
  },
  {
   "cell_type": "code",
   "execution_count": 81,
   "metadata": {},
   "outputs": [
    {
     "data": {
      "image/png": "[encoded data removed]",
      "text/plain": [
       "<Figure size 432x288 with 1 Axes>"
      ]
     },
     "metadata": {
      "needs_background": "light"
     },
     "output_type": "display_data"
    }
   ],
   "source": [
    "# Compare with the class boundary predited by using only 'AllStar'\n",
    "X_future_0 = data_future_pred[data_future_pred['HOF'] == 0]\n",
    "X_future_1 = data_future_pred[data_future_pred['HOF'] == 1]\n",
    "\n",
    "plt.pcolormesh(xx, yy, Z, cmap=plt.cm.Paired)\n",
    "plt.scatter(X_future_0['AllStar'], X_future_0['VORP'],\n",
    "            alpha=opacity,\n",
    "            color='r',\n",
    "            marker = 'o',label='non-HOF')\n",
    "plt.scatter(X_future_1['AllStar'], X_future_1['VORP'],\n",
    "            alpha=opacity,\n",
    "            color='b',\n",
    "            marker = 'o',label='HOF')\n",
    "plt.plot(boundary_one_rep_feature*[1,1],[-20,120],color = 'tab:gray', linestyle='--',linewidth = 2.0)\n",
    "plt.xlim(-0.5,15.5)\n",
    "plt.ylim(-20,120)\n",
    "\n",
    "plt.xticks(index)\n",
    "plt.xlabel('# of All Star')\n",
    "plt.ylabel('VORP')\n",
    "plt.title('# of All Star and VORP v.s. Predicted HOF')\n",
    "plt.legend()\n",
    "plt.savefig('./figures/feature-selection-logistic-regression/prediction-two-rep-feature.png')\n",
    "plt.show()"
   ]
  },
  {
   "cell_type": "code",
   "execution_count": 82,
   "metadata": {},
   "outputs": [
    {
     "name": "stdout",
     "output_type": "stream",
     "text": [
      "    AllStar      VORP\n",
      "0  0.905694  0.176331\n"
     ]
    }
   ],
   "source": [
    "df_coef = pd.DataFrame(model.coef_,columns=['AllStar','VORP'])\n",
    "print(df_coef)"
   ]
  },
  {
   "cell_type": "markdown",
   "metadata": {},
   "source": [
    "##### Players who will be inducted:"
   ]
  },
  {
   "cell_type": "code",
   "execution_count": 83,
   "metadata": {
    "scrolled": true
   },
   "outputs": [
    {
     "data": {
      "text/html": [
       "<div>\n",
       "<style scoped>\n",
       "    .dataframe tbody tr th:only-of-type {\n",
       "        vertical-align: middle;\n",
       "    }\n",
       "\n",
       "    .dataframe tbody tr th {\n",
       "        vertical-align: top;\n",
       "    }\n",
       "\n",
       "    .dataframe thead th {\n",
       "        text-align: right;\n",
       "    }\n",
       "</style>\n",
       "<table border=\"1\" class=\"dataframe\">\n",
       "  <thead>\n",
       "    <tr style=\"text-align: right;\">\n",
       "      <th></th>\n",
       "      <th>Player</th>\n",
       "      <th>HOF_Prob</th>\n",
       "    </tr>\n",
       "  </thead>\n",
       "  <tbody>\n",
       "    <tr>\n",
       "      <th>1557</th>\n",
       "      <td>Kobe Bryant</td>\n",
       "      <td>0.999944</td>\n",
       "    </tr>\n",
       "    <tr>\n",
       "      <th>1628</th>\n",
       "      <td>LeBron James</td>\n",
       "      <td>0.999772</td>\n",
       "    </tr>\n",
       "    <tr>\n",
       "      <th>1520</th>\n",
       "      <td>Kevin Garnett</td>\n",
       "      <td>0.999664</td>\n",
       "    </tr>\n",
       "    <tr>\n",
       "      <th>2517</th>\n",
       "      <td>Tim Duncan</td>\n",
       "      <td>0.999634</td>\n",
       "    </tr>\n",
       "    <tr>\n",
       "      <th>745</th>\n",
       "      <td>Dirk Nowitzki</td>\n",
       "      <td>0.998855</td>\n",
       "    </tr>\n",
       "    <tr>\n",
       "      <th>807</th>\n",
       "      <td>Dwyane Wade</td>\n",
       "      <td>0.997290</td>\n",
       "    </tr>\n",
       "    <tr>\n",
       "      <th>419</th>\n",
       "      <td>Chris Bosh</td>\n",
       "      <td>0.980523</td>\n",
       "    </tr>\n",
       "    <tr>\n",
       "      <th>2044</th>\n",
       "      <td>Paul Pierce</td>\n",
       "      <td>0.977990</td>\n",
       "    </tr>\n",
       "    <tr>\n",
       "      <th>1517</th>\n",
       "      <td>Kevin Durant</td>\n",
       "      <td>0.971733</td>\n",
       "    </tr>\n",
       "    <tr>\n",
       "      <th>449</th>\n",
       "      <td>Chris Paul</td>\n",
       "      <td>0.962600</td>\n",
       "    </tr>\n",
       "    <tr>\n",
       "      <th>366</th>\n",
       "      <td>Carmelo Anthony</td>\n",
       "      <td>0.961862</td>\n",
       "    </tr>\n",
       "    <tr>\n",
       "      <th>2655</th>\n",
       "      <td>Vince Carter</td>\n",
       "      <td>0.902701</td>\n",
       "    </tr>\n",
       "    <tr>\n",
       "      <th>2284</th>\n",
       "      <td>Russell Westbrook</td>\n",
       "      <td>0.892628</td>\n",
       "    </tr>\n",
       "    <tr>\n",
       "      <th>804</th>\n",
       "      <td>Dwight Howard</td>\n",
       "      <td>0.875225</td>\n",
       "    </tr>\n",
       "    <tr>\n",
       "      <th>1141</th>\n",
       "      <td>James Harden</td>\n",
       "      <td>0.780904</td>\n",
       "    </tr>\n",
       "    <tr>\n",
       "      <th>1313</th>\n",
       "      <td>Joe Johnson</td>\n",
       "      <td>0.732826</td>\n",
       "    </tr>\n",
       "    <tr>\n",
       "      <th>1583</th>\n",
       "      <td>LaMarcus Aldridge</td>\n",
       "      <td>0.716946</td>\n",
       "    </tr>\n",
       "    <tr>\n",
       "      <th>2035</th>\n",
       "      <td>Pau Gasol</td>\n",
       "      <td>0.683335</td>\n",
       "    </tr>\n",
       "    <tr>\n",
       "      <th>2423</th>\n",
       "      <td>Stephen Curry</td>\n",
       "      <td>0.633650</td>\n",
       "    </tr>\n",
       "    <tr>\n",
       "      <th>2578</th>\n",
       "      <td>Tony Parker</td>\n",
       "      <td>0.571876</td>\n",
       "    </tr>\n",
       "    <tr>\n",
       "      <th>229</th>\n",
       "      <td>Blake Griffin</td>\n",
       "      <td>0.564929</td>\n",
       "    </tr>\n",
       "    <tr>\n",
       "      <th>2037</th>\n",
       "      <td>Paul George</td>\n",
       "      <td>0.545702</td>\n",
       "    </tr>\n",
       "    <tr>\n",
       "      <th>128</th>\n",
       "      <td>Anthony Davis</td>\n",
       "      <td>0.530747</td>\n",
       "    </tr>\n",
       "    <tr>\n",
       "      <th>82</th>\n",
       "      <td>Amar'e Stoudemire</td>\n",
       "      <td>0.525896</td>\n",
       "    </tr>\n",
       "    <tr>\n",
       "      <th>1580</th>\n",
       "      <td>Kyrie Irving</td>\n",
       "      <td>0.524130</td>\n",
       "    </tr>\n",
       "  </tbody>\n",
       "</table>\n",
       "</div>"
      ],
      "text/plain": [
       "                 Player  HOF_Prob\n",
       "1557        Kobe Bryant  0.999944\n",
       "1628       LeBron James  0.999772\n",
       "1520      Kevin Garnett  0.999664\n",
       "2517         Tim Duncan  0.999634\n",
       "745       Dirk Nowitzki  0.998855\n",
       "807         Dwyane Wade  0.997290\n",
       "419          Chris Bosh  0.980523\n",
       "2044        Paul Pierce  0.977990\n",
       "1517       Kevin Durant  0.971733\n",
       "449          Chris Paul  0.962600\n",
       "366     Carmelo Anthony  0.961862\n",
       "2655       Vince Carter  0.902701\n",
       "2284  Russell Westbrook  0.892628\n",
       "804       Dwight Howard  0.875225\n",
       "1141       James Harden  0.780904\n",
       "1313        Joe Johnson  0.732826\n",
       "1583  LaMarcus Aldridge  0.716946\n",
       "2035          Pau Gasol  0.683335\n",
       "2423      Stephen Curry  0.633650\n",
       "2578        Tony Parker  0.571876\n",
       "229       Blake Griffin  0.564929\n",
       "2037        Paul George  0.545702\n",
       "128       Anthony Davis  0.530747\n",
       "82    Amar'e Stoudemire  0.525896\n",
       "1580       Kyrie Irving  0.524130"
      ]
     },
     "execution_count": 83,
     "metadata": {},
     "output_type": "execute_result"
    }
   ],
   "source": [
    "data_future_pred[(data_future_pred['HOF']==1)][['Player','HOF_Prob']].sort_values('HOF_Prob',ascending = False)"
   ]
  },
  {
   "cell_type": "markdown",
   "metadata": {},
   "source": [
    "##### Players who should be inducted but are predicted with less than 50% chances"
   ]
  },
  {
   "cell_type": "markdown",
   "metadata": {},
   "source": [
    "We use our own impression about the current players and find out that there are a few players who should be inducted but are predicted with less than 50% chances based on our model."
   ]
  },
  {
   "cell_type": "markdown",
   "metadata": {},
   "source": [
    "We believe that some players who has attended five all star games before 2019 are likely to attend more and thus have more than 50% chance to be inducted in Hall of Fame"
   ]
  },
  {
   "cell_type": "code",
   "execution_count": 84,
   "metadata": {},
   "outputs": [
    {
     "data": {
      "text/html": [
       "<div>\n",
       "<style scoped>\n",
       "    .dataframe tbody tr th:only-of-type {\n",
       "        vertical-align: middle;\n",
       "    }\n",
       "\n",
       "    .dataframe tbody tr th {\n",
       "        vertical-align: top;\n",
       "    }\n",
       "\n",
       "    .dataframe thead th {\n",
       "        text-align: right;\n",
       "    }\n",
       "</style>\n",
       "<table border=\"1\" class=\"dataframe\">\n",
       "  <thead>\n",
       "    <tr style=\"text-align: right;\">\n",
       "      <th></th>\n",
       "      <th>Player</th>\n",
       "      <th>HOF_Prob</th>\n",
       "      <th>AllStar</th>\n",
       "      <th>VORP</th>\n",
       "    </tr>\n",
       "  </thead>\n",
       "  <tbody>\n",
       "    <tr>\n",
       "      <th>1574</th>\n",
       "      <td>Kyle Lowry</td>\n",
       "      <td>0.411155</td>\n",
       "      <td>5.0</td>\n",
       "      <td>31.5</td>\n",
       "    </tr>\n",
       "    <tr>\n",
       "      <th>29</th>\n",
       "      <td>Al Horford</td>\n",
       "      <td>0.392862</td>\n",
       "      <td>5.0</td>\n",
       "      <td>27.2</td>\n",
       "    </tr>\n",
       "    <tr>\n",
       "      <th>1527</th>\n",
       "      <td>Kevin Love</td>\n",
       "      <td>0.377357</td>\n",
       "      <td>5.0</td>\n",
       "      <td>23.5</td>\n",
       "    </tr>\n",
       "    <tr>\n",
       "      <th>1364</th>\n",
       "      <td>John Wall</td>\n",
       "      <td>0.364146</td>\n",
       "      <td>5.0</td>\n",
       "      <td>20.3</td>\n",
       "    </tr>\n",
       "    <tr>\n",
       "      <th>1556</th>\n",
       "      <td>Klay Thompson</td>\n",
       "      <td>0.321521</td>\n",
       "      <td>5.0</td>\n",
       "      <td>9.6</td>\n",
       "    </tr>\n",
       "  </tbody>\n",
       "</table>\n",
       "</div>"
      ],
      "text/plain": [
       "             Player  HOF_Prob  AllStar  VORP\n",
       "1574     Kyle Lowry  0.411155      5.0  31.5\n",
       "29       Al Horford  0.392862      5.0  27.2\n",
       "1527     Kevin Love  0.377357      5.0  23.5\n",
       "1364      John Wall  0.364146      5.0  20.3\n",
       "1556  Klay Thompson  0.321521      5.0   9.6"
      ]
     },
     "execution_count": 84,
     "metadata": {},
     "output_type": "execute_result"
    }
   ],
   "source": [
    "data_future_pred[(data_future_pred['AllStar']==5)][['Player','HOF_Prob','AllStar',\n",
    "                                                   'VORP']].sort_values('HOF_Prob',ascending = False)"
   ]
  },
  {
   "cell_type": "code",
   "execution_count": 85,
   "metadata": {},
   "outputs": [
    {
     "data": {
      "text/html": [
       "<div>\n",
       "<style scoped>\n",
       "    .dataframe tbody tr th:only-of-type {\n",
       "        vertical-align: middle;\n",
       "    }\n",
       "\n",
       "    .dataframe tbody tr th {\n",
       "        vertical-align: top;\n",
       "    }\n",
       "\n",
       "    .dataframe thead th {\n",
       "        text-align: right;\n",
       "    }\n",
       "</style>\n",
       "<table border=\"1\" class=\"dataframe\">\n",
       "  <thead>\n",
       "    <tr style=\"text-align: right;\">\n",
       "      <th></th>\n",
       "      <th>Player</th>\n",
       "      <th>AllStar</th>\n",
       "      <th>VORP</th>\n",
       "      <th>HOF</th>\n",
       "      <th>HOF_Prob</th>\n",
       "    </tr>\n",
       "  </thead>\n",
       "  <tbody>\n",
       "    <tr>\n",
       "      <th>1580</th>\n",
       "      <td>Kyrie Irving</td>\n",
       "      <td>7.0</td>\n",
       "      <td>16.3</td>\n",
       "      <td>1</td>\n",
       "      <td>0.694534</td>\n",
       "    </tr>\n",
       "    <tr>\n",
       "      <th>2037</th>\n",
       "      <td>Paul George</td>\n",
       "      <td>7.0</td>\n",
       "      <td>21.2</td>\n",
       "      <td>1</td>\n",
       "      <td>0.712617</td>\n",
       "    </tr>\n",
       "    <tr>\n",
       "      <th>2423</th>\n",
       "      <td>Stephen Curry</td>\n",
       "      <td>7.0</td>\n",
       "      <td>41.8</td>\n",
       "      <td>1</td>\n",
       "      <td>0.781207</td>\n",
       "    </tr>\n",
       "  </tbody>\n",
       "</table>\n",
       "</div>"
      ],
      "text/plain": [
       "             Player  AllStar  VORP  HOF  HOF_Prob\n",
       "1580   Kyrie Irving      7.0  16.3    1  0.694534\n",
       "2037    Paul George      7.0  21.2    1  0.712617\n",
       "2423  Stephen Curry      7.0  41.8    1  0.781207"
      ]
     },
     "execution_count": 85,
     "metadata": {},
     "output_type": "execute_result"
    }
   ],
   "source": [
    "\n",
    "data_future_pred_temp = pd.DataFrame()\n",
    "data_future_pred_temp['Player'] = data_future['Player'].loc[[1580,2037,2423]].copy()\n",
    "data_future_pred_temp['AllStar'] = data_future['AllStar'].loc[[1580,2037,2423]].copy()+1\n",
    "data_future_pred_temp['VORP'] = data_future['VORP'].loc[[1580,2037,2423]].copy()\n",
    "\n",
    "X_temp = (data_future_pred_temp[['AllStar','VORP']].copy()-normalization_offset[['AllStar','VORP']].values)/normalization_scaling[['AllStar','VORP']].values\n",
    "\n",
    "\n",
    "data_future_pred_temp['HOF'] = model.predict(X_temp)\n",
    "data_future_pred_temp['HOF_Prob'] = model.predict_proba(X_temp)[:,1]\n",
    "\n",
    "data_future_pred_temp"
   ]
  },
  {
   "cell_type": "markdown",
   "metadata": {},
   "source": [
    "Based on our impresssion, we also believe Klay Thompson and Rajon Rondo are likely to be Hall of Famers"
   ]
  },
  {
   "cell_type": "code",
   "execution_count": 86,
   "metadata": {
    "scrolled": false
   },
   "outputs": [
    {
     "data": {
      "text/html": [
       "<div>\n",
       "<style scoped>\n",
       "    .dataframe tbody tr th:only-of-type {\n",
       "        vertical-align: middle;\n",
       "    }\n",
       "\n",
       "    .dataframe tbody tr th {\n",
       "        vertical-align: top;\n",
       "    }\n",
       "\n",
       "    .dataframe thead th {\n",
       "        text-align: right;\n",
       "    }\n",
       "</style>\n",
       "<table border=\"1\" class=\"dataframe\">\n",
       "  <thead>\n",
       "    <tr style=\"text-align: right;\">\n",
       "      <th></th>\n",
       "      <th>Player</th>\n",
       "      <th>HOF_Prob</th>\n",
       "      <th>AllStar</th>\n",
       "      <th>VORP</th>\n",
       "    </tr>\n",
       "  </thead>\n",
       "  <tbody>\n",
       "    <tr>\n",
       "      <th>1556</th>\n",
       "      <td>Klay Thompson</td>\n",
       "      <td>0.321521</td>\n",
       "      <td>5.0</td>\n",
       "      <td>9.6</td>\n",
       "    </tr>\n",
       "    <tr>\n",
       "      <th>2100</th>\n",
       "      <td>Rajon Rondo</td>\n",
       "      <td>0.222025</td>\n",
       "      <td>4.0</td>\n",
       "      <td>21.9</td>\n",
       "    </tr>\n",
       "  </tbody>\n",
       "</table>\n",
       "</div>"
      ],
      "text/plain": [
       "             Player  HOF_Prob  AllStar  VORP\n",
       "1556  Klay Thompson  0.321521      5.0   9.6\n",
       "2100    Rajon Rondo  0.222025      4.0  21.9"
      ]
     },
     "execution_count": 86,
     "metadata": {},
     "output_type": "execute_result"
    }
   ],
   "source": [
    "data_future_pred.query('(Player == \"Klay Thompson\") | (Player == \"Rajon Rondo\")')[['Player','HOF_Prob','AllStar','VORP']]"
   ]
  },
  {
   "cell_type": "markdown",
   "metadata": {},
   "source": [
    "### Using statsmodels"
   ]
  },
  {
   "cell_type": "markdown",
   "metadata": {},
   "source": [
    "We can also perform logistic regression by using python package statsmodels. Please note that the fitted coefficient is twice as large as the coefficient by using sklearn because different convention in the model."
   ]
  },
  {
   "cell_type": "code",
   "execution_count": 87,
   "metadata": {},
   "outputs": [
    {
     "name": "stdout",
     "output_type": "stream",
     "text": [
      "Optimization terminated successfully.\n",
      "         Current function value: 0.008533\n",
      "         Iterations 12\n"
     ]
    },
    {
     "data": {
      "text/html": [
       "<table class=\"simpletable\">\n",
       "<caption>Logit Regression Results</caption>\n",
       "<tr>\n",
       "  <th>Dep. Variable:</th>        <td>HOF</td>       <th>  No. Observations:  </th>  <td>  1910</td>  \n",
       "</tr>\n",
       "<tr>\n",
       "  <th>Model:</th>               <td>Logit</td>      <th>  Df Residuals:      </th>  <td>  1907</td>  \n",
       "</tr>\n",
       "<tr>\n",
       "  <th>Method:</th>               <td>MLE</td>       <th>  Df Model:          </th>  <td>     2</td>  \n",
       "</tr>\n",
       "<tr>\n",
       "  <th>Date:</th>          <td>Mon, 11 Mar 2019</td> <th>  Pseudo R-squ.:     </th>  <td>0.8915</td>  \n",
       "</tr>\n",
       "<tr>\n",
       "  <th>Time:</th>              <td>12:07:29</td>     <th>  Log-Likelihood:    </th> <td> -16.297</td> \n",
       "</tr>\n",
       "<tr>\n",
       "  <th>converged:</th>           <td>True</td>       <th>  LL-Null:           </th> <td> -150.22</td> \n",
       "</tr>\n",
       "<tr>\n",
       "  <th> </th>                      <td> </td>        <th>  LLR p-value:       </th> <td>6.901e-59</td>\n",
       "</tr>\n",
       "</table>\n",
       "<table class=\"simpletable\">\n",
       "<tr>\n",
       "      <td></td>         <th>coef</th>     <th>std err</th>      <th>z</th>      <th>P>|z|</th>  <th>[0.025</th>    <th>0.975]</th>  \n",
       "</tr>\n",
       "<tr>\n",
       "  <th>AllStar</th>   <td>    1.8114</td> <td>    0.365</td> <td>    4.957</td> <td> 0.000</td> <td>    1.095</td> <td>    2.528</td>\n",
       "</tr>\n",
       "<tr>\n",
       "  <th>VORP</th>      <td>    0.3527</td> <td>    0.322</td> <td>    1.094</td> <td> 0.274</td> <td>   -0.279</td> <td>    0.985</td>\n",
       "</tr>\n",
       "<tr>\n",
       "  <th>Intercept</th> <td>   -8.6284</td> <td>    1.495</td> <td>   -5.773</td> <td> 0.000</td> <td>  -11.558</td> <td>   -5.699</td>\n",
       "</tr>\n",
       "</table>"
      ],
      "text/plain": [
       "<class 'statsmodels.iolib.summary.Summary'>\n",
       "\"\"\"\n",
       "                           Logit Regression Results                           \n",
       "==============================================================================\n",
       "Dep. Variable:                    HOF   No. Observations:                 1910\n",
       "Model:                          Logit   Df Residuals:                     1907\n",
       "Method:                           MLE   Df Model:                            2\n",
       "Date:                Mon, 11 Mar 2019   Pseudo R-squ.:                  0.8915\n",
       "Time:                        12:07:29   Log-Likelihood:                -16.297\n",
       "converged:                       True   LL-Null:                       -150.22\n",
       "                                        LLR p-value:                 6.901e-59\n",
       "==============================================================================\n",
       "                 coef    std err          z      P>|z|      [0.025      0.975]\n",
       "------------------------------------------------------------------------------\n",
       "AllStar        1.8114      0.365      4.957      0.000       1.095       2.528\n",
       "VORP           0.3527      0.322      1.094      0.274      -0.279       0.985\n",
       "Intercept     -8.6284      1.495     -5.773      0.000     -11.558      -5.699\n",
       "==============================================================================\n",
       "\"\"\""
      ]
     },
     "execution_count": 87,
     "metadata": {},
     "output_type": "execute_result"
    }
   ],
   "source": [
    "X_sm_in = X_in.copy();\n",
    "X_sm_in['Intercept'] = 1;\n",
    "sm_logit = sm.Logit(y_in,X_sm_in)\n",
    "sm_logit.fit().summary()"
   ]
  },
  {
   "cell_type": "markdown",
   "metadata": {},
   "source": [
    "Based on above results, the coefficient for feature AllStar again has statistical significance. However, the coefficient for feature VORP doesn't have statistical significance. Increasing number of data might decrease the corresponding P-value."
   ]
  }
 ],
 "metadata": {
  "kernelspec": {
   "display_name": "Python 3",
   "language": "python",
   "name": "python3"
  },
  "language_info": {
   "codemirror_mode": {
    "name": "ipython",
    "version": 3
   },
   "file_extension": ".py",
   "mimetype": "text/x-python",
   "name": "python",
   "nbconvert_exporter": "python",
   "pygments_lexer": "ipython3",
   "version": "3.7.0"
  }
 },
 "nbformat": 4,
 "nbformat_minor": 2
}
